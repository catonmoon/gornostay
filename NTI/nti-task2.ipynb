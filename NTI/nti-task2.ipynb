{
 "cells": [
  {
   "cell_type": "code",
   "execution_count": 76,
   "metadata": {},
   "outputs": [],
   "source": [
    "import pandas as pd"
   ]
  },
  {
   "cell_type": "code",
   "execution_count": 77,
   "metadata": {},
   "outputs": [],
   "source": [
    "import numpy as np"
   ]
  },
  {
   "cell_type": "code",
   "execution_count": 78,
   "metadata": {},
   "outputs": [],
   "source": [
    "import matplotlib.pyplot as plt\n",
    "%matplotlib inline"
   ]
  },
  {
   "cell_type": "code",
   "execution_count": 79,
   "metadata": {},
   "outputs": [],
   "source": [
    "pd.set_option('precision',3)\n",
    "pd.options.display.max_columns = 999\n",
    "np.set_printoptions(formatter={'float': '{: 0.3f}'.format})"
   ]
  },
  {
   "cell_type": "code",
   "execution_count": 80,
   "metadata": {},
   "outputs": [],
   "source": [
    "data = pd.read_csv('train - train.csv')"
   ]
  },
  {
   "cell_type": "code",
   "execution_count": 82,
   "metadata": {},
   "outputs": [],
   "source": [
    "data['i'] = data.index"
   ]
  },
  {
   "cell_type": "code",
   "execution_count": 83,
   "metadata": {},
   "outputs": [
    {
     "data": {
      "text/html": [
       "<div>\n",
       "<style scoped>\n",
       "    .dataframe tbody tr th:only-of-type {\n",
       "        vertical-align: middle;\n",
       "    }\n",
       "\n",
       "    .dataframe tbody tr th {\n",
       "        vertical-align: top;\n",
       "    }\n",
       "\n",
       "    .dataframe thead th {\n",
       "        text-align: right;\n",
       "    }\n",
       "</style>\n",
       "<table border=\"1\" class=\"dataframe\">\n",
       "  <thead>\n",
       "    <tr style=\"text-align: right;\">\n",
       "      <th></th>\n",
       "      <th>v</th>\n",
       "      <th>t</th>\n",
       "      <th>distance</th>\n",
       "      <th>rating</th>\n",
       "      <th>car_or_bus</th>\n",
       "      <th>i</th>\n",
       "    </tr>\n",
       "  </thead>\n",
       "  <tbody>\n",
       "    <tr>\n",
       "      <th>0</th>\n",
       "      <td>19.211</td>\n",
       "      <td>0.138</td>\n",
       "      <td>2.652</td>\n",
       "      <td>3</td>\n",
       "      <td>car</td>\n",
       "      <td>0</td>\n",
       "    </tr>\n",
       "    <tr>\n",
       "      <th>1</th>\n",
       "      <td>30.848</td>\n",
       "      <td>0.171</td>\n",
       "      <td>5.290</td>\n",
       "      <td>3</td>\n",
       "      <td>car</td>\n",
       "      <td>1</td>\n",
       "    </tr>\n",
       "    <tr>\n",
       "      <th>2</th>\n",
       "      <td>13.560</td>\n",
       "      <td>0.068</td>\n",
       "      <td>0.918</td>\n",
       "      <td>3</td>\n",
       "      <td>bus</td>\n",
       "      <td>2</td>\n",
       "    </tr>\n",
       "    <tr>\n",
       "      <th>3</th>\n",
       "      <td>19.767</td>\n",
       "      <td>0.390</td>\n",
       "      <td>7.700</td>\n",
       "      <td>3</td>\n",
       "      <td>bus</td>\n",
       "      <td>3</td>\n",
       "    </tr>\n",
       "    <tr>\n",
       "      <th>4</th>\n",
       "      <td>25.807</td>\n",
       "      <td>0.155</td>\n",
       "      <td>3.995</td>\n",
       "      <td>2</td>\n",
       "      <td>car</td>\n",
       "      <td>4</td>\n",
       "    </tr>\n",
       "  </tbody>\n",
       "</table>\n",
       "</div>"
      ],
      "text/plain": [
       "        v      t  distance  rating car_or_bus  i\n",
       "0  19.211  0.138     2.652       3        car  0\n",
       "1  30.848  0.171     5.290       3        car  1\n",
       "2  13.560  0.068     0.918       3        bus  2\n",
       "3  19.767  0.390     7.700       3        bus  3\n",
       "4  25.807  0.155     3.995       2        car  4"
      ]
     },
     "execution_count": 83,
     "metadata": {},
     "output_type": "execute_result"
    }
   ],
   "source": [
    "data.head(5)"
   ]
  },
  {
   "cell_type": "code",
   "execution_count": 84,
   "metadata": {},
   "outputs": [],
   "source": [
    "features = list(data.columns)"
   ]
  },
  {
   "cell_type": "code",
   "execution_count": 85,
   "metadata": {},
   "outputs": [],
   "source": [
    "features = [x for x in features if x not in ['car_or_bus']]"
   ]
  },
  {
   "cell_type": "code",
   "execution_count": 86,
   "metadata": {},
   "outputs": [
    {
     "data": {
      "text/plain": [
       "['v', 't', 'distance', 'rating', 'i']"
      ]
     },
     "execution_count": 86,
     "metadata": {},
     "output_type": "execute_result"
    }
   ],
   "source": [
    "features"
   ]
  },
  {
   "cell_type": "code",
   "execution_count": 87,
   "metadata": {},
   "outputs": [],
   "source": [
    "X, y = data[features], data['car_or_bus'].map({'car':0, 'bus':1})"
   ]
  },
  {
   "cell_type": "code",
   "execution_count": 88,
   "metadata": {},
   "outputs": [
    {
     "data": {
      "text/html": [
       "<div>\n",
       "<style scoped>\n",
       "    .dataframe tbody tr th:only-of-type {\n",
       "        vertical-align: middle;\n",
       "    }\n",
       "\n",
       "    .dataframe tbody tr th {\n",
       "        vertical-align: top;\n",
       "    }\n",
       "\n",
       "    .dataframe thead th {\n",
       "        text-align: right;\n",
       "    }\n",
       "</style>\n",
       "<table border=\"1\" class=\"dataframe\">\n",
       "  <thead>\n",
       "    <tr style=\"text-align: right;\">\n",
       "      <th></th>\n",
       "      <th>v</th>\n",
       "      <th>t</th>\n",
       "      <th>distance</th>\n",
       "      <th>rating</th>\n",
       "      <th>i</th>\n",
       "    </tr>\n",
       "  </thead>\n",
       "  <tbody>\n",
       "    <tr>\n",
       "      <th>0</th>\n",
       "      <td>19.211</td>\n",
       "      <td>0.138</td>\n",
       "      <td>2.652</td>\n",
       "      <td>3</td>\n",
       "      <td>0</td>\n",
       "    </tr>\n",
       "    <tr>\n",
       "      <th>1</th>\n",
       "      <td>30.848</td>\n",
       "      <td>0.171</td>\n",
       "      <td>5.290</td>\n",
       "      <td>3</td>\n",
       "      <td>1</td>\n",
       "    </tr>\n",
       "    <tr>\n",
       "      <th>2</th>\n",
       "      <td>13.560</td>\n",
       "      <td>0.068</td>\n",
       "      <td>0.918</td>\n",
       "      <td>3</td>\n",
       "      <td>2</td>\n",
       "    </tr>\n",
       "    <tr>\n",
       "      <th>3</th>\n",
       "      <td>19.767</td>\n",
       "      <td>0.390</td>\n",
       "      <td>7.700</td>\n",
       "      <td>3</td>\n",
       "      <td>3</td>\n",
       "    </tr>\n",
       "    <tr>\n",
       "      <th>4</th>\n",
       "      <td>25.807</td>\n",
       "      <td>0.155</td>\n",
       "      <td>3.995</td>\n",
       "      <td>2</td>\n",
       "      <td>4</td>\n",
       "    </tr>\n",
       "  </tbody>\n",
       "</table>\n",
       "</div>"
      ],
      "text/plain": [
       "        v      t  distance  rating  i\n",
       "0  19.211  0.138     2.652       3  0\n",
       "1  30.848  0.171     5.290       3  1\n",
       "2  13.560  0.068     0.918       3  2\n",
       "3  19.767  0.390     7.700       3  3\n",
       "4  25.807  0.155     3.995       2  4"
      ]
     },
     "execution_count": 88,
     "metadata": {},
     "output_type": "execute_result"
    }
   ],
   "source": [
    "X.head()"
   ]
  },
  {
   "cell_type": "code",
   "execution_count": 89,
   "metadata": {},
   "outputs": [],
   "source": [
    "from sklearn.model_selection import train_test_split"
   ]
  },
  {
   "cell_type": "code",
   "execution_count": 90,
   "metadata": {},
   "outputs": [],
   "source": [
    "X_train, X_test, y_train, y_test = train_test_split(X, y, test_size=0.33, random_state=42)\n",
    "\n",
    "# Зафиксируем разбиение для повторяемости кода: random_state"
   ]
  },
  {
   "cell_type": "code",
   "execution_count": 203,
   "metadata": {},
   "outputs": [
    {
     "name": "stdout",
     "output_type": "stream",
     "text": [
      "96     1\n",
      "105    0\n",
      "66     0\n",
      "0      0\n",
      "122    0\n",
      "Name: car_or_bus, dtype: int64 73     0\n",
      "18     1\n",
      "118    1\n",
      "78     1\n",
      "76     0\n",
      "Name: car_or_bus, dtype: int64\n"
     ]
    }
   ],
   "source": [
    "print (y_train.head(), y_test.head())"
   ]
  },
  {
   "cell_type": "code",
   "execution_count": 91,
   "metadata": {},
   "outputs": [],
   "source": [
    "from sklearn.linear_model import LogisticRegressionCV\n",
    "\n",
    "clf = LogisticRegressionCV(cv=5, random_state=0, n_jobs=-1).fit(X, y)\n",
    "\n",
    "# фиксируем повторяемость : random_state\n",
    "# кол-во фолдов : см\n",
    "# кол-во процессоров : n_jobs (все)"
   ]
  },
  {
   "cell_type": "code",
   "execution_count": 92,
   "metadata": {},
   "outputs": [],
   "source": [
    "# Как напредсказывали?\n",
    "\n",
    "list_ones = []\n",
    "list_zeros = []\n",
    "\n",
    "for i,j in zip(clf.predict_proba(X)[:,1], np.array(y)):\n",
    "    if j==0: list_zeros.append((round(i,2),j))\n",
    "    else: list_ones.append((round(i,2),j))"
   ]
  },
  {
   "cell_type": "code",
   "execution_count": 93,
   "metadata": {
    "scrolled": true
   },
   "outputs": [
    {
     "data": {
      "text/plain": [
       "([(0.33, 1), (0.31, 1), (0.33, 1), (0.33, 1), (0.36, 1)],\n",
       " [(0.69, 1), (0.64, 1), (0.64, 1), (0.69, 1), (0.7, 1)])"
      ]
     },
     "execution_count": 93,
     "metadata": {},
     "output_type": "execute_result"
    }
   ],
   "source": [
    "list_ones[:5], list_ones[-5:] "
   ]
  },
  {
   "cell_type": "code",
   "execution_count": 94,
   "metadata": {},
   "outputs": [],
   "source": [
    "from sklearn.metrics import accuracy_score"
   ]
  },
  {
   "cell_type": "code",
   "execution_count": 95,
   "metadata": {},
   "outputs": [
    {
     "data": {
      "text/plain": [
       "0.6533333333333333"
      ]
     },
     "execution_count": 95,
     "metadata": {},
     "output_type": "execute_result"
    }
   ],
   "source": [
    "accuracy_score(clf.predict(X), y)"
   ]
  },
  {
   "cell_type": "markdown",
   "metadata": {},
   "source": [
    "# Давайте градиентный бустинг! Самое вроде лучшее ! Сравним !"
   ]
  },
  {
   "cell_type": "code",
   "execution_count": 54,
   "metadata": {},
   "outputs": [
    {
     "name": "stdout",
     "output_type": "stream",
     "text": [
      "Collecting xgboost\n",
      "  Downloading https://files.pythonhosted.org/packages/1d/e7/5258cb787dc036f419ec57491decf8bfa89ab52c401b08b4b9228e43dc4c/xgboost-0.81-py2.py3-none-win_amd64.whl (7.4MB)\n",
      "Requirement already satisfied: scipy in c:\\users\\ivan\\anaconda3\\lib\\site-packages (from xgboost) (1.1.0)\n",
      "Requirement already satisfied: numpy in c:\\users\\ivan\\anaconda3\\lib\\site-packages (from xgboost) (1.15.1)\n",
      "Installing collected packages: xgboost\n",
      "Successfully installed xgboost-0.81\n"
     ]
    },
    {
     "name": "stderr",
     "output_type": "stream",
     "text": [
      "twisted 18.7.0 requires PyHamcrest>=1.9.0, which is not installed.\n",
      "You are using pip version 10.0.1, however version 18.1 is available.\n",
      "You should consider upgrading via the 'python -m pip install --upgrade pip' command.\n"
     ]
    }
   ],
   "source": [
    "! pip install xgboost"
   ]
  },
  {
   "cell_type": "code",
   "execution_count": 55,
   "metadata": {},
   "outputs": [
    {
     "name": "stdout",
     "output_type": "stream",
     "text": [
      "Collecting PyHamcrest\n",
      "  Downloading https://files.pythonhosted.org/packages/9a/d5/d37fd731b7d0e91afcc84577edeccf4638b4f9b82f5ffe2f8b62e2ddc609/PyHamcrest-1.9.0-py2.py3-none-any.whl (52kB)\n",
      "Requirement already satisfied: six in c:\\users\\ivan\\anaconda3\\lib\\site-packages (from PyHamcrest) (1.11.0)\n",
      "Requirement already satisfied: setuptools in c:\\users\\ivan\\anaconda3\\lib\\site-packages (from PyHamcrest) (40.2.0)\n",
      "Installing collected packages: PyHamcrest\n",
      "Successfully installed PyHamcrest-1.9.0\n"
     ]
    },
    {
     "name": "stderr",
     "output_type": "stream",
     "text": [
      "You are using pip version 10.0.1, however version 18.1 is available.\n",
      "You should consider upgrading via the 'python -m pip install --upgrade pip' command.\n"
     ]
    }
   ],
   "source": [
    "! pip install PyHamcrest"
   ]
  },
  {
   "cell_type": "code",
   "execution_count": 96,
   "metadata": {},
   "outputs": [],
   "source": [
    "import xgboost as xgb "
   ]
  },
  {
   "cell_type": "code",
   "execution_count": 97,
   "metadata": {},
   "outputs": [
    {
     "name": "stdout",
     "output_type": "stream",
     "text": [
      "0.81\n",
      "\n"
     ]
    }
   ],
   "source": [
    "with open(xgb.VERSION_FILE) as v:\n",
    "    print (v.read())"
   ]
  },
  {
   "cell_type": "code",
   "execution_count": 98,
   "metadata": {},
   "outputs": [],
   "source": [
    "# Будем использовать \"родной\" формат xgb\n",
    "\n",
    "d_train = xgb.DMatrix(X_train, label=y_train)\n",
    "d_test = xgb.DMatrix(X_test, label=y_test)"
   ]
  },
  {
   "cell_type": "code",
   "execution_count": 99,
   "metadata": {},
   "outputs": [],
   "source": [
    "d_X = xgb.DMatrix(X, label=y)"
   ]
  },
  {
   "cell_type": "code",
   "execution_count": 100,
   "metadata": {},
   "outputs": [],
   "source": [
    "param = {'max_depth': 2, 'eta': 1, 'silent': 1, 'objective': 'binary:logistic'}\n",
    "# param = {'max_depth': 2, 'eta': 0.038, 'silent': 1, 'objective': 'binary:logistic'}\n",
    "\n",
    "# 'max_depth': 2, глубина дерева, по умолчанию\n",
    "# 'eta': 1, шаг обучения, по умолчанию ПОКА\n",
    "# 'silent': 1, инфа о процессе, да\n",
    "# 'objective': 'binary:logistic', целевая функция - бинарная классификация\n",
    "\n",
    "param['nthread'] = 8 # кол-во процессоров"
   ]
  },
  {
   "cell_type": "code",
   "execution_count": 101,
   "metadata": {},
   "outputs": [],
   "source": [
    "param['eval_metric'] = 'error' # оптимизация по 1-accuracy (доли неправильных ответов)"
   ]
  },
  {
   "cell_type": "code",
   "execution_count": 102,
   "metadata": {},
   "outputs": [],
   "source": [
    "evallist = [(d_test, 'test'), (d_train, 'train')] # что печатать в процессе обучения - метрику для теста и трейна "
   ]
  },
  {
   "cell_type": "code",
   "execution_count": 103,
   "metadata": {},
   "outputs": [],
   "source": [
    "evallist2 = [(d_X, 'train')] # когда учися на всем, теста нет "
   ]
  },
  {
   "cell_type": "code",
   "execution_count": 37,
   "metadata": {},
   "outputs": [],
   "source": [
    "param['num_round'] = 100 # Сколько деревьев, сколько \"шагов\""
   ]
  },
  {
   "cell_type": "code",
   "execution_count": 39,
   "metadata": {
    "scrolled": true
   },
   "outputs": [
    {
     "name": "stdout",
     "output_type": "stream",
     "text": [
      "[0]\teval-error:0.26\ttrain-error:0.2\n",
      "[1]\teval-error:0.36\ttrain-error:0.15\n",
      "[2]\teval-error:0.26\ttrain-error:0.17\n",
      "[3]\teval-error:0.28\ttrain-error:0.11\n",
      "[4]\teval-error:0.28\ttrain-error:0.12\n",
      "[5]\teval-error:0.32\ttrain-error:0.09\n",
      "[6]\teval-error:0.26\ttrain-error:0.08\n",
      "[7]\teval-error:0.3\ttrain-error:0.08\n",
      "[8]\teval-error:0.32\ttrain-error:0.05\n",
      "[9]\teval-error:0.3\ttrain-error:0.04\n",
      "[10]\teval-error:0.3\ttrain-error:0.04\n",
      "[11]\teval-error:0.28\ttrain-error:0.02\n",
      "[12]\teval-error:0.26\ttrain-error:0.02\n",
      "[13]\teval-error:0.3\ttrain-error:0.03\n",
      "[14]\teval-error:0.28\ttrain-error:0.02\n",
      "[15]\teval-error:0.3\ttrain-error:0\n",
      "[16]\teval-error:0.32\ttrain-error:0\n",
      "[17]\teval-error:0.32\ttrain-error:0.01\n",
      "[18]\teval-error:0.32\ttrain-error:0.02\n",
      "[19]\teval-error:0.34\ttrain-error:0\n",
      "[20]\teval-error:0.34\ttrain-error:0\n",
      "[21]\teval-error:0.32\ttrain-error:0\n",
      "[22]\teval-error:0.34\ttrain-error:0\n",
      "[23]\teval-error:0.3\ttrain-error:0\n",
      "[24]\teval-error:0.32\ttrain-error:0\n",
      "[25]\teval-error:0.32\ttrain-error:0\n",
      "[26]\teval-error:0.32\ttrain-error:0\n",
      "[27]\teval-error:0.3\ttrain-error:0\n",
      "[28]\teval-error:0.32\ttrain-error:0\n",
      "[29]\teval-error:0.32\ttrain-error:0\n",
      "[30]\teval-error:0.3\ttrain-error:0\n",
      "[31]\teval-error:0.3\ttrain-error:0\n",
      "[32]\teval-error:0.3\ttrain-error:0\n",
      "[33]\teval-error:0.32\ttrain-error:0\n",
      "[34]\teval-error:0.32\ttrain-error:0\n",
      "[35]\teval-error:0.32\ttrain-error:0\n",
      "[36]\teval-error:0.32\ttrain-error:0\n",
      "[37]\teval-error:0.32\ttrain-error:0\n",
      "[38]\teval-error:0.32\ttrain-error:0\n",
      "[39]\teval-error:0.32\ttrain-error:0\n",
      "[40]\teval-error:0.32\ttrain-error:0\n",
      "[41]\teval-error:0.32\ttrain-error:0\n",
      "[42]\teval-error:0.32\ttrain-error:0\n",
      "[43]\teval-error:0.32\ttrain-error:0\n",
      "[44]\teval-error:0.32\ttrain-error:0\n",
      "[45]\teval-error:0.32\ttrain-error:0\n",
      "[46]\teval-error:0.32\ttrain-error:0\n",
      "[47]\teval-error:0.32\ttrain-error:0\n",
      "[48]\teval-error:0.32\ttrain-error:0\n",
      "[49]\teval-error:0.32\ttrain-error:0\n",
      "[50]\teval-error:0.32\ttrain-error:0\n",
      "[51]\teval-error:0.32\ttrain-error:0\n",
      "[52]\teval-error:0.32\ttrain-error:0\n",
      "[53]\teval-error:0.32\ttrain-error:0\n",
      "[54]\teval-error:0.32\ttrain-error:0\n",
      "[55]\teval-error:0.32\ttrain-error:0\n",
      "[56]\teval-error:0.32\ttrain-error:0\n",
      "[57]\teval-error:0.32\ttrain-error:0\n",
      "[58]\teval-error:0.32\ttrain-error:0\n",
      "[59]\teval-error:0.32\ttrain-error:0\n",
      "[60]\teval-error:0.32\ttrain-error:0\n",
      "[61]\teval-error:0.32\ttrain-error:0\n",
      "[62]\teval-error:0.32\ttrain-error:0\n",
      "[63]\teval-error:0.32\ttrain-error:0\n",
      "[64]\teval-error:0.32\ttrain-error:0\n",
      "[65]\teval-error:0.32\ttrain-error:0\n",
      "[66]\teval-error:0.32\ttrain-error:0\n",
      "[67]\teval-error:0.32\ttrain-error:0\n",
      "[68]\teval-error:0.32\ttrain-error:0\n",
      "[69]\teval-error:0.32\ttrain-error:0\n",
      "[70]\teval-error:0.32\ttrain-error:0\n",
      "[71]\teval-error:0.3\ttrain-error:0\n",
      "[72]\teval-error:0.32\ttrain-error:0\n",
      "[73]\teval-error:0.3\ttrain-error:0\n",
      "[74]\teval-error:0.32\ttrain-error:0\n",
      "[75]\teval-error:0.32\ttrain-error:0\n",
      "[76]\teval-error:0.32\ttrain-error:0\n",
      "[77]\teval-error:0.32\ttrain-error:0\n",
      "[78]\teval-error:0.32\ttrain-error:0\n",
      "[79]\teval-error:0.32\ttrain-error:0\n",
      "[80]\teval-error:0.32\ttrain-error:0\n",
      "[81]\teval-error:0.32\ttrain-error:0\n",
      "[82]\teval-error:0.32\ttrain-error:0\n",
      "[83]\teval-error:0.32\ttrain-error:0\n",
      "[84]\teval-error:0.32\ttrain-error:0\n",
      "[85]\teval-error:0.32\ttrain-error:0\n",
      "[86]\teval-error:0.32\ttrain-error:0\n",
      "[87]\teval-error:0.32\ttrain-error:0\n",
      "[88]\teval-error:0.32\ttrain-error:0\n",
      "[89]\teval-error:0.32\ttrain-error:0\n",
      "[90]\teval-error:0.32\ttrain-error:0\n",
      "[91]\teval-error:0.32\ttrain-error:0\n",
      "[92]\teval-error:0.32\ttrain-error:0\n",
      "[93]\teval-error:0.32\ttrain-error:0\n",
      "[94]\teval-error:0.32\ttrain-error:0\n",
      "[95]\teval-error:0.32\ttrain-error:0\n",
      "[96]\teval-error:0.32\ttrain-error:0\n",
      "[97]\teval-error:0.32\ttrain-error:0\n",
      "[98]\teval-error:0.32\ttrain-error:0\n",
      "[99]\teval-error:0.32\ttrain-error:0\n"
     ]
    }
   ],
   "source": [
    "bst = xgb.train(param, d_train, param['num_round'], evallist)"
   ]
  },
  {
   "cell_type": "code",
   "execution_count": 40,
   "metadata": {},
   "outputs": [
    {
     "data": {
      "text/plain": [
       "<matplotlib.axes._subplots.AxesSubplot at 0x220684e6dd8>"
      ]
     },
     "execution_count": 40,
     "metadata": {},
     "output_type": "execute_result"
    },
    {
     "data": {
      "image/png": "[encoded data removed]",
      "text/plain": [
       "<Figure size 432x288 with 1 Axes>"
      ]
     },
     "metadata": {
      "needs_background": "light"
     },
     "output_type": "display_data"
    }
   ],
   "source": [
    "xgb.plot_importance(bst)"
   ]
  },
  {
   "cell_type": "code",
   "execution_count": 42,
   "metadata": {},
   "outputs": [
    {
     "data": {
      "text/plain": [
       "array([ 0.090,  0.020,  0.997,  0.030,  0.002,  0.007,  0.002,  0.996,\n",
       "        0.000,  0.486,  0.203,  0.460,  0.019,  0.554,  0.826,  0.005,\n",
       "        0.098,  0.000,  0.973,  0.097,  0.240,  0.995,  0.742,  0.991,\n",
       "        0.821,  0.986,  0.905,  0.995,  0.044,  0.240,  0.850,  0.031,\n",
       "        0.002,  0.352,  0.841,  0.771,  0.964,  0.964,  0.000,  0.948,\n",
       "        0.178,  0.915,  0.778,  0.978,  0.426,  0.618,  0.795,  0.915,\n",
       "        0.002,  0.016], dtype=float32)"
      ]
     },
     "execution_count": 42,
     "metadata": {},
     "output_type": "execute_result"
    }
   ],
   "source": [
    "bst.predict(d_test)"
   ]
  },
  {
   "cell_type": "code",
   "execution_count": 43,
   "metadata": {},
   "outputs": [
    {
     "data": {
      "text/plain": [
       "array([0, 0, 1, 0, 0, 0, 0, 1, 0, 0, 0, 0, 0, 1, 1, 0, 0, 0, 1, 0, 0, 1,\n",
       "       1, 1, 1, 1, 1, 1, 0, 0, 1, 0, 0, 0, 1, 1, 1, 1, 0, 1, 0, 1, 1, 1,\n",
       "       0, 1, 1, 1, 0, 0])"
      ]
     },
     "execution_count": 43,
     "metadata": {},
     "output_type": "execute_result"
    }
   ],
   "source": [
    "y_pred = (bst.predict(d_test)>=0.5).astype(int)\n",
    "y_pred"
   ]
  },
  {
   "cell_type": "code",
   "execution_count": 44,
   "metadata": {},
   "outputs": [
    {
     "data": {
      "text/plain": [
       "0.68"
      ]
     },
     "execution_count": 44,
     "metadata": {},
     "output_type": "execute_result"
    }
   ],
   "source": [
    "accuracy_score(y_pred, y_test) # 1 - 0.32 :)"
   ]
  },
  {
   "cell_type": "code",
   "execution_count": 78,
   "metadata": {
    "scrolled": false
   },
   "outputs": [
    {
     "name": "stdout",
     "output_type": "stream",
     "text": [
      "[0]\ttrain-error:0.227619\ttest-error:0.28\n",
      "Multiple eval metrics have been passed: 'test-error' will be used for early stopping.\n",
      "\n",
      "Will train until test-error hasn't improved in 60 rounds.\n",
      "[1]\ttrain-error:0.207619\ttest-error:0.28\n",
      "[2]\ttrain-error:0.17619\ttest-error:0.306667\n",
      "[3]\ttrain-error:0.148571\ttest-error:0.306667\n",
      "[4]\ttrain-error:0.125238\ttest-error:0.293333\n",
      "[5]\ttrain-error:0.115238\ttest-error:0.266667\n",
      "[6]\ttrain-error:0.0980951\ttest-error:0.266667\n",
      "[7]\ttrain-error:0.0890475\ttest-error:0.286667\n",
      "[8]\ttrain-error:0.0799999\ttest-error:0.28\n",
      "[9]\ttrain-error:0.0709524\ttest-error:0.266667\n",
      "[10]\ttrain-error:0.0671428\ttest-error:0.286667\n",
      "[11]\ttrain-error:0.0609525\ttest-error:0.273333\n",
      "[12]\ttrain-error:0.052381\ttest-error:0.306667\n",
      "[13]\ttrain-error:0.047619\ttest-error:0.3\n",
      "[14]\ttrain-error:0.0442856\ttest-error:0.293333\n",
      "[15]\ttrain-error:0.0380951\ttest-error:0.266667\n",
      "[16]\ttrain-error:0.0347618\ttest-error:0.28\n",
      "[17]\ttrain-error:0.0314285\ttest-error:0.28\n",
      "[18]\ttrain-error:0.0295238\ttest-error:0.28\n",
      "[19]\ttrain-error:0.0247619\ttest-error:0.266667\n",
      "[20]\ttrain-error:0.019524\ttest-error:0.273333\n",
      "[21]\ttrain-error:0.0161908\ttest-error:0.28\n",
      "[22]\ttrain-error:0.0147621\ttest-error:0.246667\n",
      "[23]\ttrain-error:0.0138097\ttest-error:0.26\n",
      "[24]\ttrain-error:0.0138098\ttest-error:0.246667\n",
      "[25]\ttrain-error:0.011905\ttest-error:0.253333\n",
      "[26]\ttrain-error:0.0109526\ttest-error:0.26\n",
      "[27]\ttrain-error:0.0080954\ttest-error:0.246667\n",
      "[28]\ttrain-error:0.0061906\ttest-error:0.26\n",
      "[29]\ttrain-error:0.0076192\ttest-error:0.26\n",
      "[30]\ttrain-error:0.0061906\ttest-error:0.26\n",
      "[31]\ttrain-error:0.0052382\ttest-error:0.253333\n",
      "[32]\ttrain-error:0.0033334\ttest-error:0.246667\n",
      "[33]\ttrain-error:0.0019048\ttest-error:0.246667\n",
      "[34]\ttrain-error:0.0019048\ttest-error:0.26\n",
      "[35]\ttrain-error:0.0019048\ttest-error:0.253333\n",
      "[36]\ttrain-error:0.002381\ttest-error:0.26\n",
      "[37]\ttrain-error:0.0004762\ttest-error:0.246667\n",
      "[38]\ttrain-error:0.0009524\ttest-error:0.253333\n",
      "[39]\ttrain-error:0\ttest-error:0.253333\n",
      "[40]\ttrain-error:0\ttest-error:0.24\n",
      "[41]\ttrain-error:0\ttest-error:0.253333\n",
      "[42]\ttrain-error:0\ttest-error:0.246667\n",
      "[43]\ttrain-error:0\ttest-error:0.246667\n",
      "[44]\ttrain-error:0\ttest-error:0.253333\n",
      "[45]\ttrain-error:0\ttest-error:0.246667\n",
      "[46]\ttrain-error:0\ttest-error:0.24\n",
      "[47]\ttrain-error:0\ttest-error:0.253333\n",
      "[48]\ttrain-error:0\ttest-error:0.253333\n",
      "[49]\ttrain-error:0\ttest-error:0.24\n",
      "[50]\ttrain-error:0\ttest-error:0.253333\n",
      "[51]\ttrain-error:0\ttest-error:0.246667\n",
      "[52]\ttrain-error:0\ttest-error:0.246667\n",
      "[53]\ttrain-error:0\ttest-error:0.26\n",
      "[54]\ttrain-error:0\ttest-error:0.253333\n",
      "[55]\ttrain-error:0\ttest-error:0.246667\n",
      "[56]\ttrain-error:0\ttest-error:0.246667\n",
      "[57]\ttrain-error:0\ttest-error:0.253333\n",
      "[58]\ttrain-error:0\ttest-error:0.26\n",
      "[59]\ttrain-error:0\ttest-error:0.266667\n",
      "[60]\ttrain-error:0\ttest-error:0.253333\n",
      "[61]\ttrain-error:0\ttest-error:0.26\n",
      "[62]\ttrain-error:0\ttest-error:0.26\n",
      "[63]\ttrain-error:0\ttest-error:0.253333\n",
      "[64]\ttrain-error:0\ttest-error:0.253333\n",
      "[65]\ttrain-error:0\ttest-error:0.266667\n",
      "[66]\ttrain-error:0\ttest-error:0.28\n",
      "[67]\ttrain-error:0\ttest-error:0.273333\n",
      "[68]\ttrain-error:0\ttest-error:0.28\n",
      "[69]\ttrain-error:0\ttest-error:0.273333\n",
      "[70]\ttrain-error:0\ttest-error:0.273333\n",
      "[71]\ttrain-error:0\ttest-error:0.266667\n",
      "[72]\ttrain-error:0\ttest-error:0.273333\n",
      "[73]\ttrain-error:0\ttest-error:0.273333\n",
      "[74]\ttrain-error:0\ttest-error:0.266667\n",
      "[75]\ttrain-error:0\ttest-error:0.273333\n",
      "[76]\ttrain-error:0\ttest-error:0.266667\n",
      "[77]\ttrain-error:0\ttest-error:0.266667\n",
      "[78]\ttrain-error:0\ttest-error:0.26\n",
      "[79]\ttrain-error:0\ttest-error:0.253333\n",
      "[80]\ttrain-error:0\ttest-error:0.26\n",
      "[81]\ttrain-error:0\ttest-error:0.26\n",
      "[82]\ttrain-error:0\ttest-error:0.26\n",
      "[83]\ttrain-error:0\ttest-error:0.26\n",
      "[84]\ttrain-error:0\ttest-error:0.26\n",
      "[85]\ttrain-error:0\ttest-error:0.266667\n",
      "[86]\ttrain-error:0\ttest-error:0.253333\n",
      "[87]\ttrain-error:0\ttest-error:0.253333\n",
      "[88]\ttrain-error:0\ttest-error:0.253333\n",
      "[89]\ttrain-error:0\ttest-error:0.273333\n",
      "[90]\ttrain-error:0\ttest-error:0.253333\n",
      "[91]\ttrain-error:0\ttest-error:0.253333\n",
      "[92]\ttrain-error:0\ttest-error:0.26\n",
      "[93]\ttrain-error:0\ttest-error:0.253333\n",
      "[94]\ttrain-error:0\ttest-error:0.253333\n",
      "[95]\ttrain-error:0\ttest-error:0.253333\n",
      "[96]\ttrain-error:0\ttest-error:0.253333\n",
      "[97]\ttrain-error:0\ttest-error:0.253333\n",
      "[98]\ttrain-error:0\ttest-error:0.253333\n",
      "[99]\ttrain-error:0\ttest-error:0.26\n"
     ]
    }
   ],
   "source": [
    "res = xgb.cv(param, d_X, num_boost_round=param['num_round'], nfold=15, \n",
    "\n",
    "             metrics={'error'}, seed=0,\n",
    "\n",
    "             callbacks=[xgb.callback.print_evaluation(show_stdv=False),\n",
    "                        xgb.callback.early_stop(60)])\n",
    "\n",
    "# "
   ]
  },
  {
   "cell_type": "code",
   "execution_count": 62,
   "metadata": {},
   "outputs": [
    {
     "data": {
      "text/plain": [
       "Index(['train-error-mean', 'train-error-std', 'test-error-mean',\n",
       "       'test-error-std'],\n",
       "      dtype='object')"
      ]
     },
     "execution_count": 62,
     "metadata": {},
     "output_type": "execute_result"
    }
   ],
   "source": [
    "res.columns"
   ]
  },
  {
   "cell_type": "code",
   "execution_count": 79,
   "metadata": {},
   "outputs": [
    {
     "data": {
      "text/html": [
       "<div>\n",
       "<style scoped>\n",
       "    .dataframe tbody tr th:only-of-type {\n",
       "        vertical-align: middle;\n",
       "    }\n",
       "\n",
       "    .dataframe tbody tr th {\n",
       "        vertical-align: top;\n",
       "    }\n",
       "\n",
       "    .dataframe thead th {\n",
       "        text-align: right;\n",
       "    }\n",
       "</style>\n",
       "<table border=\"1\" class=\"dataframe\">\n",
       "  <thead>\n",
       "    <tr style=\"text-align: right;\">\n",
       "      <th></th>\n",
       "      <th>train-error-mean</th>\n",
       "      <th>train-error-std</th>\n",
       "      <th>test-error-mean</th>\n",
       "      <th>test-error-std</th>\n",
       "    </tr>\n",
       "  </thead>\n",
       "  <tbody>\n",
       "    <tr>\n",
       "      <th>40</th>\n",
       "      <td>0.0</td>\n",
       "      <td>0.0</td>\n",
       "      <td>0.24</td>\n",
       "      <td>0.15</td>\n",
       "    </tr>\n",
       "    <tr>\n",
       "      <th>46</th>\n",
       "      <td>0.0</td>\n",
       "      <td>0.0</td>\n",
       "      <td>0.24</td>\n",
       "      <td>0.14</td>\n",
       "    </tr>\n",
       "    <tr>\n",
       "      <th>49</th>\n",
       "      <td>0.0</td>\n",
       "      <td>0.0</td>\n",
       "      <td>0.24</td>\n",
       "      <td>0.14</td>\n",
       "    </tr>\n",
       "  </tbody>\n",
       "</table>\n",
       "</div>"
      ],
      "text/plain": [
       "    train-error-mean  train-error-std  test-error-mean  test-error-std\n",
       "40               0.0              0.0             0.24            0.15\n",
       "46               0.0              0.0             0.24            0.14\n",
       "49               0.0              0.0             0.24            0.14"
      ]
     },
     "execution_count": 79,
     "metadata": {},
     "output_type": "execute_result"
    }
   ],
   "source": [
    "res[res['test-error-mean'] == res['test-error-mean'].min()]"
   ]
  },
  {
   "cell_type": "code",
   "execution_count": 80,
   "metadata": {},
   "outputs": [
    {
     "data": {
      "text/plain": [
       "0.76"
      ]
     },
     "execution_count": 80,
     "metadata": {},
     "output_type": "execute_result"
    }
   ],
   "source": [
    "1 - 0.24 # Более точная accuracy"
   ]
  },
  {
   "cell_type": "markdown",
   "metadata": {},
   "source": [
    "# Давайте сделаем интересные фичи!"
   ]
  },
  {
   "cell_type": "code",
   "execution_count": 219,
   "metadata": {},
   "outputs": [],
   "source": [
    "\n",
    "\n",
    "# Например, возьмем корень:\n",
    "\n",
    "power = 1/2"
   ]
  },
  {
   "cell_type": "code",
   "execution_count": 220,
   "metadata": {},
   "outputs": [],
   "source": [
    "data['v2'] = data['v']**power\n",
    "data['t2'] = data['t']**power\n",
    "data['d2'] = data['distance']**power\n",
    "\n",
    "# 'Ctrl-/' - перключить комменты"
   ]
  },
  {
   "cell_type": "code",
   "execution_count": 224,
   "metadata": {},
   "outputs": [],
   "source": [
    "features = list(data.columns)"
   ]
  },
  {
   "cell_type": "code",
   "execution_count": 225,
   "metadata": {},
   "outputs": [],
   "source": [
    "features = [x for x in features if x not in ['car_or_bus']]"
   ]
  },
  {
   "cell_type": "code",
   "execution_count": 226,
   "metadata": {},
   "outputs": [
    {
     "data": {
      "text/plain": [
       "['v', 't', 'distance', 'rating', 'i', 'v2', 't2', 'd2']"
      ]
     },
     "execution_count": 226,
     "metadata": {},
     "output_type": "execute_result"
    }
   ],
   "source": [
    "features"
   ]
  },
  {
   "cell_type": "code",
   "execution_count": 144,
   "metadata": {},
   "outputs": [
    {
     "data": {
      "text/html": [
       "<div>\n",
       "<style scoped>\n",
       "    .dataframe tbody tr th:only-of-type {\n",
       "        vertical-align: middle;\n",
       "    }\n",
       "\n",
       "    .dataframe tbody tr th {\n",
       "        vertical-align: top;\n",
       "    }\n",
       "\n",
       "    .dataframe thead th {\n",
       "        text-align: right;\n",
       "    }\n",
       "</style>\n",
       "<table border=\"1\" class=\"dataframe\">\n",
       "  <thead>\n",
       "    <tr style=\"text-align: right;\">\n",
       "      <th></th>\n",
       "      <th>v</th>\n",
       "      <th>t</th>\n",
       "      <th>distance</th>\n",
       "      <th>rating</th>\n",
       "      <th>i</th>\n",
       "      <th>v2</th>\n",
       "      <th>t2</th>\n",
       "      <th>d2</th>\n",
       "    </tr>\n",
       "  </thead>\n",
       "  <tbody>\n",
       "    <tr>\n",
       "      <th>0</th>\n",
       "      <td>19.211</td>\n",
       "      <td>0.138</td>\n",
       "      <td>2.652</td>\n",
       "      <td>3</td>\n",
       "      <td>0</td>\n",
       "      <td>4.383</td>\n",
       "      <td>0.372</td>\n",
       "      <td>1.628</td>\n",
       "    </tr>\n",
       "    <tr>\n",
       "      <th>1</th>\n",
       "      <td>30.848</td>\n",
       "      <td>0.171</td>\n",
       "      <td>5.290</td>\n",
       "      <td>3</td>\n",
       "      <td>1</td>\n",
       "      <td>5.554</td>\n",
       "      <td>0.414</td>\n",
       "      <td>2.300</td>\n",
       "    </tr>\n",
       "    <tr>\n",
       "      <th>2</th>\n",
       "      <td>13.560</td>\n",
       "      <td>0.068</td>\n",
       "      <td>0.918</td>\n",
       "      <td>3</td>\n",
       "      <td>2</td>\n",
       "      <td>3.682</td>\n",
       "      <td>0.260</td>\n",
       "      <td>0.958</td>\n",
       "    </tr>\n",
       "    <tr>\n",
       "      <th>3</th>\n",
       "      <td>19.767</td>\n",
       "      <td>0.390</td>\n",
       "      <td>7.700</td>\n",
       "      <td>3</td>\n",
       "      <td>3</td>\n",
       "      <td>4.446</td>\n",
       "      <td>0.624</td>\n",
       "      <td>2.775</td>\n",
       "    </tr>\n",
       "    <tr>\n",
       "      <th>4</th>\n",
       "      <td>25.807</td>\n",
       "      <td>0.155</td>\n",
       "      <td>3.995</td>\n",
       "      <td>2</td>\n",
       "      <td>4</td>\n",
       "      <td>5.080</td>\n",
       "      <td>0.393</td>\n",
       "      <td>1.999</td>\n",
       "    </tr>\n",
       "  </tbody>\n",
       "</table>\n",
       "</div>"
      ],
      "text/plain": [
       "        v      t  distance  rating  i     v2     t2     d2\n",
       "0  19.211  0.138     2.652       3  0  4.383  0.372  1.628\n",
       "1  30.848  0.171     5.290       3  1  5.554  0.414  2.300\n",
       "2  13.560  0.068     0.918       3  2  3.682  0.260  0.958\n",
       "3  19.767  0.390     7.700       3  3  4.446  0.624  2.775\n",
       "4  25.807  0.155     3.995       2  4  5.080  0.393  1.999"
      ]
     },
     "execution_count": 144,
     "metadata": {},
     "output_type": "execute_result"
    }
   ],
   "source": [
    "data[features].head()"
   ]
  },
  {
   "cell_type": "code",
   "execution_count": 145,
   "metadata": {},
   "outputs": [],
   "source": [
    "X, y = data[features], data['car_or_bus'].map({'car':0, 'bus':1})"
   ]
  },
  {
   "cell_type": "code",
   "execution_count": 146,
   "metadata": {},
   "outputs": [],
   "source": [
    "X_train, X_test, y_train, y_test = train_test_split(X, y, test_size=0.33, random_state=42)\n",
    "\n",
    "# Зафиксируем разбиение для повторяемости кода: random_state"
   ]
  },
  {
   "cell_type": "code",
   "execution_count": 192,
   "metadata": {},
   "outputs": [],
   "source": [
    "d_train = xgb.DMatrix(X_train, label=y_train)\n",
    "d_test = xgb.DMatrix(X_test, label=y_test)"
   ]
  },
  {
   "cell_type": "code",
   "execution_count": 193,
   "metadata": {},
   "outputs": [],
   "source": [
    "d_X = xgb.DMatrix(X, label=y)"
   ]
  },
  {
   "cell_type": "code",
   "execution_count": 154,
   "metadata": {
    "scrolled": true
   },
   "outputs": [
    {
     "name": "stdout",
     "output_type": "stream",
     "text": [
      "[0]\teval-error:0.26\ttrain-error:0.2\n",
      "[1]\teval-error:0.36\ttrain-error:0.15\n",
      "[2]\teval-error:0.26\ttrain-error:0.17\n",
      "[3]\teval-error:0.28\ttrain-error:0.11\n",
      "[4]\teval-error:0.28\ttrain-error:0.12\n",
      "[5]\teval-error:0.32\ttrain-error:0.09\n",
      "[6]\teval-error:0.26\ttrain-error:0.08\n",
      "[7]\teval-error:0.3\ttrain-error:0.08\n",
      "[8]\teval-error:0.32\ttrain-error:0.05\n",
      "[9]\teval-error:0.3\ttrain-error:0.04\n",
      "[10]\teval-error:0.3\ttrain-error:0.04\n",
      "[11]\teval-error:0.28\ttrain-error:0.02\n",
      "[12]\teval-error:0.26\ttrain-error:0.02\n",
      "[13]\teval-error:0.3\ttrain-error:0.03\n",
      "[14]\teval-error:0.28\ttrain-error:0.02\n",
      "[15]\teval-error:0.3\ttrain-error:0\n",
      "[16]\teval-error:0.32\ttrain-error:0\n",
      "[17]\teval-error:0.32\ttrain-error:0.01\n",
      "[18]\teval-error:0.32\ttrain-error:0.02\n",
      "[19]\teval-error:0.34\ttrain-error:0\n",
      "[20]\teval-error:0.34\ttrain-error:0\n",
      "[21]\teval-error:0.32\ttrain-error:0\n",
      "[22]\teval-error:0.34\ttrain-error:0\n",
      "[23]\teval-error:0.3\ttrain-error:0\n",
      "[24]\teval-error:0.32\ttrain-error:0\n",
      "[25]\teval-error:0.32\ttrain-error:0\n",
      "[26]\teval-error:0.32\ttrain-error:0\n",
      "[27]\teval-error:0.3\ttrain-error:0\n",
      "[28]\teval-error:0.32\ttrain-error:0\n",
      "[29]\teval-error:0.32\ttrain-error:0\n",
      "[30]\teval-error:0.3\ttrain-error:0\n",
      "[31]\teval-error:0.3\ttrain-error:0\n",
      "[32]\teval-error:0.3\ttrain-error:0\n",
      "[33]\teval-error:0.32\ttrain-error:0\n",
      "[34]\teval-error:0.32\ttrain-error:0\n",
      "[35]\teval-error:0.32\ttrain-error:0\n",
      "[36]\teval-error:0.32\ttrain-error:0\n",
      "[37]\teval-error:0.32\ttrain-error:0\n",
      "[38]\teval-error:0.32\ttrain-error:0\n",
      "[39]\teval-error:0.32\ttrain-error:0\n",
      "[40]\teval-error:0.32\ttrain-error:0\n",
      "[41]\teval-error:0.32\ttrain-error:0\n",
      "[42]\teval-error:0.32\ttrain-error:0\n",
      "[43]\teval-error:0.32\ttrain-error:0\n",
      "[44]\teval-error:0.32\ttrain-error:0\n",
      "[45]\teval-error:0.32\ttrain-error:0\n",
      "[46]\teval-error:0.32\ttrain-error:0\n",
      "[47]\teval-error:0.32\ttrain-error:0\n",
      "[48]\teval-error:0.32\ttrain-error:0\n",
      "[49]\teval-error:0.32\ttrain-error:0\n",
      "[50]\teval-error:0.32\ttrain-error:0\n",
      "[51]\teval-error:0.32\ttrain-error:0\n",
      "[52]\teval-error:0.32\ttrain-error:0\n",
      "[53]\teval-error:0.32\ttrain-error:0\n",
      "[54]\teval-error:0.32\ttrain-error:0\n",
      "[55]\teval-error:0.32\ttrain-error:0\n",
      "[56]\teval-error:0.32\ttrain-error:0\n",
      "[57]\teval-error:0.32\ttrain-error:0\n",
      "[58]\teval-error:0.32\ttrain-error:0\n",
      "[59]\teval-error:0.32\ttrain-error:0\n",
      "[60]\teval-error:0.32\ttrain-error:0\n",
      "[61]\teval-error:0.32\ttrain-error:0\n",
      "[62]\teval-error:0.32\ttrain-error:0\n",
      "[63]\teval-error:0.32\ttrain-error:0\n",
      "[64]\teval-error:0.32\ttrain-error:0\n",
      "[65]\teval-error:0.32\ttrain-error:0\n",
      "[66]\teval-error:0.32\ttrain-error:0\n",
      "[67]\teval-error:0.32\ttrain-error:0\n",
      "[68]\teval-error:0.32\ttrain-error:0\n",
      "[69]\teval-error:0.32\ttrain-error:0\n",
      "[70]\teval-error:0.32\ttrain-error:0\n",
      "[71]\teval-error:0.3\ttrain-error:0\n",
      "[72]\teval-error:0.32\ttrain-error:0\n",
      "[73]\teval-error:0.3\ttrain-error:0\n",
      "[74]\teval-error:0.32\ttrain-error:0\n",
      "[75]\teval-error:0.32\ttrain-error:0\n",
      "[76]\teval-error:0.32\ttrain-error:0\n",
      "[77]\teval-error:0.32\ttrain-error:0\n",
      "[78]\teval-error:0.32\ttrain-error:0\n",
      "[79]\teval-error:0.32\ttrain-error:0\n",
      "[80]\teval-error:0.32\ttrain-error:0\n",
      "[81]\teval-error:0.32\ttrain-error:0\n",
      "[82]\teval-error:0.32\ttrain-error:0\n",
      "[83]\teval-error:0.32\ttrain-error:0\n",
      "[84]\teval-error:0.32\ttrain-error:0\n",
      "[85]\teval-error:0.32\ttrain-error:0\n",
      "[86]\teval-error:0.32\ttrain-error:0\n",
      "[87]\teval-error:0.32\ttrain-error:0\n",
      "[88]\teval-error:0.32\ttrain-error:0\n",
      "[89]\teval-error:0.32\ttrain-error:0\n",
      "[90]\teval-error:0.32\ttrain-error:0\n",
      "[91]\teval-error:0.32\ttrain-error:0\n",
      "[92]\teval-error:0.32\ttrain-error:0\n",
      "[93]\teval-error:0.32\ttrain-error:0\n",
      "[94]\teval-error:0.32\ttrain-error:0\n",
      "[95]\teval-error:0.32\ttrain-error:0\n",
      "[96]\teval-error:0.32\ttrain-error:0\n",
      "[97]\teval-error:0.32\ttrain-error:0\n",
      "[98]\teval-error:0.32\ttrain-error:0\n",
      "[99]\teval-error:0.32\ttrain-error:0\n"
     ]
    }
   ],
   "source": [
    "bst = xgb.train(param, d_train, param['num_round'], evallist)"
   ]
  },
  {
   "cell_type": "code",
   "execution_count": 155,
   "metadata": {},
   "outputs": [
    {
     "data": {
      "text/plain": [
       "<matplotlib.axes._subplots.AxesSubplot at 0x22069984828>"
      ]
     },
     "execution_count": 155,
     "metadata": {},
     "output_type": "execute_result"
    },
    {
     "data": {
      "image/png": "[encoded data removed]",
      "text/plain": [
       "<Figure size 432x288 with 1 Axes>"
      ]
     },
     "metadata": {
      "needs_background": "light"
     },
     "output_type": "display_data"
    }
   ],
   "source": [
    "xgb.plot_importance(bst)"
   ]
  },
  {
   "cell_type": "code",
   "execution_count": 158,
   "metadata": {},
   "outputs": [
    {
     "data": {
      "text/plain": [
       "0.68"
      ]
     },
     "execution_count": 158,
     "metadata": {},
     "output_type": "execute_result"
    }
   ],
   "source": [
    "accuracy_score(y_pred, y_test) # 1 - 0.32 :)"
   ]
  },
  {
   "cell_type": "code",
   "execution_count": 159,
   "metadata": {
    "scrolled": true
   },
   "outputs": [
    {
     "name": "stdout",
     "output_type": "stream",
     "text": [
      "[0]\ttrain-error:0.227619\ttest-error:0.28\n",
      "Multiple eval metrics have been passed: 'test-error' will be used for early stopping.\n",
      "\n",
      "Will train until test-error hasn't improved in 60 rounds.\n",
      "[1]\ttrain-error:0.207619\ttest-error:0.28\n",
      "[2]\ttrain-error:0.17619\ttest-error:0.306667\n",
      "[3]\ttrain-error:0.148571\ttest-error:0.306667\n",
      "[4]\ttrain-error:0.125238\ttest-error:0.293333\n",
      "[5]\ttrain-error:0.115238\ttest-error:0.266667\n",
      "[6]\ttrain-error:0.0980951\ttest-error:0.266667\n",
      "[7]\ttrain-error:0.0890475\ttest-error:0.286667\n",
      "[8]\ttrain-error:0.0799999\ttest-error:0.28\n",
      "[9]\ttrain-error:0.0709524\ttest-error:0.266667\n",
      "[10]\ttrain-error:0.0671428\ttest-error:0.286667\n",
      "[11]\ttrain-error:0.0609525\ttest-error:0.273333\n",
      "[12]\ttrain-error:0.052381\ttest-error:0.306667\n",
      "[13]\ttrain-error:0.047619\ttest-error:0.3\n",
      "[14]\ttrain-error:0.0442856\ttest-error:0.293333\n",
      "[15]\ttrain-error:0.0380951\ttest-error:0.266667\n",
      "[16]\ttrain-error:0.0347618\ttest-error:0.28\n",
      "[17]\ttrain-error:0.0314285\ttest-error:0.28\n",
      "[18]\ttrain-error:0.0295238\ttest-error:0.28\n",
      "[19]\ttrain-error:0.0247619\ttest-error:0.266667\n",
      "[20]\ttrain-error:0.019524\ttest-error:0.273333\n",
      "[21]\ttrain-error:0.0161908\ttest-error:0.28\n",
      "[22]\ttrain-error:0.0147621\ttest-error:0.246667\n",
      "[23]\ttrain-error:0.0138097\ttest-error:0.26\n",
      "[24]\ttrain-error:0.0138098\ttest-error:0.246667\n",
      "[25]\ttrain-error:0.011905\ttest-error:0.253333\n",
      "[26]\ttrain-error:0.0109526\ttest-error:0.26\n",
      "[27]\ttrain-error:0.0080954\ttest-error:0.246667\n",
      "[28]\ttrain-error:0.0061906\ttest-error:0.26\n",
      "[29]\ttrain-error:0.0076192\ttest-error:0.26\n",
      "[30]\ttrain-error:0.0061906\ttest-error:0.26\n",
      "[31]\ttrain-error:0.0052382\ttest-error:0.253333\n",
      "[32]\ttrain-error:0.0033334\ttest-error:0.246667\n",
      "[33]\ttrain-error:0.0019048\ttest-error:0.246667\n",
      "[34]\ttrain-error:0.0019048\ttest-error:0.26\n",
      "[35]\ttrain-error:0.0019048\ttest-error:0.253333\n",
      "[36]\ttrain-error:0.002381\ttest-error:0.26\n",
      "[37]\ttrain-error:0.0004762\ttest-error:0.246667\n",
      "[38]\ttrain-error:0.0009524\ttest-error:0.253333\n",
      "[39]\ttrain-error:0\ttest-error:0.253333\n",
      "[40]\ttrain-error:0\ttest-error:0.24\n",
      "[41]\ttrain-error:0\ttest-error:0.253333\n",
      "[42]\ttrain-error:0\ttest-error:0.246667\n",
      "[43]\ttrain-error:0\ttest-error:0.246667\n",
      "[44]\ttrain-error:0\ttest-error:0.253333\n",
      "[45]\ttrain-error:0\ttest-error:0.246667\n",
      "[46]\ttrain-error:0\ttest-error:0.24\n",
      "[47]\ttrain-error:0\ttest-error:0.253333\n",
      "[48]\ttrain-error:0\ttest-error:0.253333\n",
      "[49]\ttrain-error:0\ttest-error:0.24\n",
      "[50]\ttrain-error:0\ttest-error:0.253333\n",
      "[51]\ttrain-error:0\ttest-error:0.246667\n",
      "[52]\ttrain-error:0\ttest-error:0.246667\n",
      "[53]\ttrain-error:0\ttest-error:0.26\n",
      "[54]\ttrain-error:0\ttest-error:0.253333\n",
      "[55]\ttrain-error:0\ttest-error:0.246667\n",
      "[56]\ttrain-error:0\ttest-error:0.246667\n",
      "[57]\ttrain-error:0\ttest-error:0.253333\n",
      "[58]\ttrain-error:0\ttest-error:0.26\n",
      "[59]\ttrain-error:0\ttest-error:0.266667\n",
      "[60]\ttrain-error:0\ttest-error:0.253333\n",
      "[61]\ttrain-error:0\ttest-error:0.26\n",
      "[62]\ttrain-error:0\ttest-error:0.26\n",
      "[63]\ttrain-error:0\ttest-error:0.253333\n",
      "[64]\ttrain-error:0\ttest-error:0.253333\n",
      "[65]\ttrain-error:0\ttest-error:0.266667\n",
      "[66]\ttrain-error:0\ttest-error:0.28\n",
      "[67]\ttrain-error:0\ttest-error:0.273333\n",
      "[68]\ttrain-error:0\ttest-error:0.28\n",
      "[69]\ttrain-error:0\ttest-error:0.273333\n",
      "[70]\ttrain-error:0\ttest-error:0.273333\n",
      "[71]\ttrain-error:0\ttest-error:0.266667\n",
      "[72]\ttrain-error:0\ttest-error:0.273333\n",
      "[73]\ttrain-error:0\ttest-error:0.273333\n",
      "[74]\ttrain-error:0\ttest-error:0.266667\n",
      "[75]\ttrain-error:0\ttest-error:0.273333\n",
      "[76]\ttrain-error:0\ttest-error:0.266667\n",
      "[77]\ttrain-error:0\ttest-error:0.266667\n",
      "[78]\ttrain-error:0\ttest-error:0.26\n",
      "[79]\ttrain-error:0\ttest-error:0.253333\n",
      "[80]\ttrain-error:0\ttest-error:0.26\n",
      "[81]\ttrain-error:0\ttest-error:0.26\n",
      "[82]\ttrain-error:0\ttest-error:0.26\n",
      "[83]\ttrain-error:0\ttest-error:0.26\n",
      "[84]\ttrain-error:0\ttest-error:0.26\n",
      "[85]\ttrain-error:0\ttest-error:0.266667\n",
      "[86]\ttrain-error:0\ttest-error:0.253333\n",
      "[87]\ttrain-error:0\ttest-error:0.253333\n",
      "[88]\ttrain-error:0\ttest-error:0.253333\n",
      "[89]\ttrain-error:0\ttest-error:0.273333\n",
      "[90]\ttrain-error:0\ttest-error:0.253333\n",
      "[91]\ttrain-error:0\ttest-error:0.253333\n",
      "[92]\ttrain-error:0\ttest-error:0.26\n",
      "[93]\ttrain-error:0\ttest-error:0.253333\n",
      "[94]\ttrain-error:0\ttest-error:0.253333\n",
      "[95]\ttrain-error:0\ttest-error:0.253333\n",
      "[96]\ttrain-error:0\ttest-error:0.253333\n",
      "[97]\ttrain-error:0\ttest-error:0.253333\n",
      "[98]\ttrain-error:0\ttest-error:0.253333\n",
      "[99]\ttrain-error:0\ttest-error:0.26\n"
     ]
    }
   ],
   "source": [
    "res = xgb.cv(param, d_X, num_boost_round=param['num_round'], nfold=15, \n",
    "\n",
    "             metrics={'error'}, seed=0,\n",
    "\n",
    "             callbacks=[xgb.callback.print_evaluation(show_stdv=False),\n",
    "                        xgb.callback.early_stop(60)])\n"
   ]
  },
  {
   "cell_type": "code",
   "execution_count": 160,
   "metadata": {},
   "outputs": [
    {
     "data": {
      "text/html": [
       "<div>\n",
       "<style scoped>\n",
       "    .dataframe tbody tr th:only-of-type {\n",
       "        vertical-align: middle;\n",
       "    }\n",
       "\n",
       "    .dataframe tbody tr th {\n",
       "        vertical-align: top;\n",
       "    }\n",
       "\n",
       "    .dataframe thead th {\n",
       "        text-align: right;\n",
       "    }\n",
       "</style>\n",
       "<table border=\"1\" class=\"dataframe\">\n",
       "  <thead>\n",
       "    <tr style=\"text-align: right;\">\n",
       "      <th></th>\n",
       "      <th>train-error-mean</th>\n",
       "      <th>train-error-std</th>\n",
       "      <th>test-error-mean</th>\n",
       "      <th>test-error-std</th>\n",
       "    </tr>\n",
       "  </thead>\n",
       "  <tbody>\n",
       "    <tr>\n",
       "      <th>40</th>\n",
       "      <td>0.0</td>\n",
       "      <td>0.0</td>\n",
       "      <td>0.24</td>\n",
       "      <td>0.15</td>\n",
       "    </tr>\n",
       "    <tr>\n",
       "      <th>46</th>\n",
       "      <td>0.0</td>\n",
       "      <td>0.0</td>\n",
       "      <td>0.24</td>\n",
       "      <td>0.14</td>\n",
       "    </tr>\n",
       "    <tr>\n",
       "      <th>49</th>\n",
       "      <td>0.0</td>\n",
       "      <td>0.0</td>\n",
       "      <td>0.24</td>\n",
       "      <td>0.14</td>\n",
       "    </tr>\n",
       "  </tbody>\n",
       "</table>\n",
       "</div>"
      ],
      "text/plain": [
       "    train-error-mean  train-error-std  test-error-mean  test-error-std\n",
       "40               0.0              0.0             0.24            0.15\n",
       "46               0.0              0.0             0.24            0.14\n",
       "49               0.0              0.0             0.24            0.14"
      ]
     },
     "execution_count": 160,
     "metadata": {},
     "output_type": "execute_result"
    }
   ],
   "source": [
    "res[res['test-error-mean'] == res['test-error-mean'].min()]"
   ]
  },
  {
   "cell_type": "code",
   "execution_count": 161,
   "metadata": {},
   "outputs": [
    {
     "data": {
      "text/plain": [
       "0.76"
      ]
     },
     "execution_count": 161,
     "metadata": {},
     "output_type": "execute_result"
    }
   ],
   "source": [
    "1 - 0.24 # Более точная accuracy"
   ]
  },
  {
   "cell_type": "markdown",
   "metadata": {},
   "source": [
    "# Tune params!"
   ]
  },
  {
   "cell_type": "markdown",
   "metadata": {},
   "source": [
    "## Restart notebook because of xgb cache "
   ]
  },
  {
   "cell_type": "code",
   "execution_count": 1,
   "metadata": {},
   "outputs": [],
   "source": [
    "import pandas as pd\n",
    "import numpy as np\n",
    "import matplotlib.pyplot as plt\n",
    "%matplotlib inline\n",
    "pd.set_option('precision',3)\n",
    "pd.options.display.max_columns = 999\n",
    "np.set_printoptions(formatter={'float': '{: 0.3f}'.format})"
   ]
  },
  {
   "cell_type": "code",
   "execution_count": 2,
   "metadata": {},
   "outputs": [],
   "source": [
    "import xgboost as xgb \n",
    "from sklearn.metrics import accuracy_score\n",
    "from sklearn.model_selection import train_test_split"
   ]
  },
  {
   "cell_type": "code",
   "execution_count": 3,
   "metadata": {},
   "outputs": [],
   "source": [
    "data = pd.read_csv('train - train.csv')"
   ]
  },
  {
   "cell_type": "code",
   "execution_count": 4,
   "metadata": {},
   "outputs": [],
   "source": [
    "data['i'] = data.index"
   ]
  },
  {
   "cell_type": "code",
   "execution_count": 5,
   "metadata": {},
   "outputs": [],
   "source": [
    "features = list(data.columns)"
   ]
  },
  {
   "cell_type": "code",
   "execution_count": 6,
   "metadata": {},
   "outputs": [
    {
     "data": {
      "text/plain": [
       "['v', 't', 'distance', 'rating', 'car_or_bus', 'i']"
      ]
     },
     "execution_count": 6,
     "metadata": {},
     "output_type": "execute_result"
    }
   ],
   "source": [
    "features"
   ]
  },
  {
   "cell_type": "code",
   "execution_count": 7,
   "metadata": {},
   "outputs": [],
   "source": [
    "features = [x for x in features if x not in ['car_or_bus']]"
   ]
  },
  {
   "cell_type": "code",
   "execution_count": 8,
   "metadata": {},
   "outputs": [
    {
     "data": {
      "text/plain": [
       "['v', 't', 'distance', 'rating', 'i']"
      ]
     },
     "execution_count": 8,
     "metadata": {},
     "output_type": "execute_result"
    }
   ],
   "source": [
    "features"
   ]
  },
  {
   "cell_type": "code",
   "execution_count": 9,
   "metadata": {},
   "outputs": [],
   "source": [
    "X, y = data[features], data['car_or_bus'].map({'car':0, 'bus':1})"
   ]
  },
  {
   "cell_type": "code",
   "execution_count": 10,
   "metadata": {},
   "outputs": [],
   "source": [
    "X_train, X_test, y_train, y_test = train_test_split(X, y, test_size=0.33, random_state=42)"
   ]
  },
  {
   "cell_type": "code",
   "execution_count": 11,
   "metadata": {},
   "outputs": [],
   "source": [
    "d_train = xgb.DMatrix(X_train, label=y_train)\n",
    "d_test = xgb.DMatrix(X_test, label=y_test)"
   ]
  },
  {
   "cell_type": "code",
   "execution_count": 12,
   "metadata": {},
   "outputs": [],
   "source": [
    "d_X = xgb.DMatrix(X, label=y)"
   ]
  },
  {
   "cell_type": "code",
   "execution_count": 14,
   "metadata": {},
   "outputs": [],
   "source": [
    "param = {'max_depth': 2, 'eta': 1, 'silent': 1, 'objective': 'binary:logistic'}\n",
    "# param = {'max_depth': 2, 'eta': 0.038, 'silent': 1, 'objective': 'binary:logistic'}\n",
    "\n",
    "# 'max_depth': 2, глубина дерева, по умолчанию\n",
    "# 'eta': 1, шаг обучения, по умолчанию ПОКА\n",
    "# 'silent': 1, инфа о процессе, да\n",
    "# 'objective': 'binary:logistic', целевая функция - бинарная классификация\n",
    "\n",
    "param['nthread'] = 8 # кол-во процессоров"
   ]
  },
  {
   "cell_type": "code",
   "execution_count": 15,
   "metadata": {},
   "outputs": [],
   "source": [
    "param['eval_metric'] = 'error' # оптимизация по 1-accuracy (доли неправильных ответов)"
   ]
  },
  {
   "cell_type": "code",
   "execution_count": 16,
   "metadata": {},
   "outputs": [],
   "source": [
    "evallist = [(d_test, 'eval'), (d_train, 'train')] # что печатать в процессе обучения - метрику для теста и трейна "
   ]
  },
  {
   "cell_type": "code",
   "execution_count": 17,
   "metadata": {},
   "outputs": [],
   "source": [
    "evallist2 = [(d_X, 'train')] # когда учися на всем, теста нет "
   ]
  },
  {
   "cell_type": "code",
   "execution_count": 18,
   "metadata": {},
   "outputs": [],
   "source": [
    "param['num_round'] = 500 # Сколько деревьев, сколько \"шагов\""
   ]
  },
  {
   "cell_type": "code",
   "execution_count": null,
   "metadata": {},
   "outputs": [],
   "source": []
  },
  {
   "cell_type": "code",
   "execution_count": 25,
   "metadata": {
    "scrolled": true
   },
   "outputs": [
    {
     "name": "stdout",
     "output_type": "stream",
     "text": [
      "\n",
      "\n",
      "***\n",
      "START eta = 0.9 \n",
      "---------------------\n",
      "\n",
      "Multiple eval metrics have been passed: 'test-error' will be used for early stopping.\n",
      "\n",
      "Will train until test-error hasn't improved in 100 rounds.\n",
      "Stopping. Best iteration:\n",
      "[92]\ttrain-error:0+0\ttest-error:0.246444+0.0748503\n",
      "\n",
      "    train-error-mean  train-error-std  test-error-mean  test-error-std\n",
      "0              0.242            0.053            0.306           0.116\n",
      "1              0.210            0.012            0.274           0.101\n",
      "2              0.180            0.009            0.314           0.113\n",
      "3              0.151            0.016            0.293           0.106\n",
      "4              0.142            0.026            0.286           0.089\n",
      "5              0.126            0.013            0.280           0.089\n",
      "6              0.112            0.024            0.293           0.081\n",
      "7              0.108            0.024            0.286           0.093\n",
      "8              0.089            0.015            0.293           0.095\n",
      "9              0.080            0.017            0.306           0.087\n",
      "10             0.070            0.021            0.286           0.082\n",
      "11             0.060            0.019            0.286           0.061\n",
      "12             0.058            0.014            0.273           0.054\n",
      "13             0.050            0.014            0.266           0.051\n",
      "14             0.040            0.008            0.280           0.071\n",
      "15             0.031            0.008            0.267           0.058\n",
      "16             0.029            0.008            0.293           0.072\n",
      "17             0.031            0.006            0.280           0.073\n",
      "18             0.026            0.009            0.307           0.090\n",
      "19             0.020            0.008            0.287           0.086\n",
      "20             0.020            0.006            0.294           0.087\n",
      "21             0.017            0.005            0.301           0.090\n",
      "22             0.012            0.004            0.287           0.091\n",
      "23             0.012            0.006            0.273           0.083\n",
      "24             0.011            0.006            0.287           0.080\n",
      "25             0.010            0.005            0.287           0.080\n",
      "26             0.009            0.005            0.287           0.084\n",
      "27             0.009            0.005            0.280           0.075\n",
      "28             0.008            0.004            0.280           0.075\n",
      "29             0.007            0.005            0.280           0.093\n",
      "..               ...              ...              ...             ...\n",
      "63             0.000            0.000            0.287           0.076\n",
      "64             0.000            0.000            0.280           0.078\n",
      "65             0.000            0.000            0.267           0.084\n",
      "66             0.000            0.000            0.253           0.080\n",
      "67             0.000            0.000            0.274           0.076\n",
      "68             0.000            0.000            0.274           0.076\n",
      "69             0.000            0.000            0.274           0.076\n",
      "70             0.000            0.000            0.267           0.076\n",
      "71             0.000            0.000            0.267           0.076\n",
      "72             0.000            0.000            0.274           0.080\n",
      "73             0.000            0.000            0.274           0.080\n",
      "74             0.000            0.000            0.274           0.080\n",
      "75             0.000            0.000            0.260           0.076\n",
      "76             0.000            0.000            0.260           0.076\n",
      "77             0.000            0.000            0.267           0.075\n",
      "78             0.000            0.000            0.273           0.075\n",
      "79             0.000            0.000            0.274           0.087\n",
      "80             0.000            0.000            0.260           0.084\n",
      "81             0.000            0.000            0.273           0.079\n",
      "82             0.000            0.000            0.260           0.091\n",
      "83             0.000            0.000            0.253           0.079\n",
      "84             0.000            0.000            0.267           0.075\n",
      "85             0.000            0.000            0.267           0.075\n",
      "86             0.000            0.000            0.273           0.075\n",
      "87             0.000            0.000            0.273           0.075\n",
      "88             0.000            0.000            0.273           0.075\n",
      "89             0.000            0.000            0.273           0.065\n",
      "90             0.000            0.000            0.267           0.075\n",
      "91             0.000            0.000            0.253           0.075\n",
      "92             0.000            0.000            0.246           0.075\n",
      "\n",
      "[93 rows x 4 columns] \n",
      "\n",
      "END eta = 0.9 \n",
      "---------------------\n",
      "\n",
      "\n",
      "\n",
      "***\n",
      "START eta = 0.5 \n",
      "---------------------\n",
      "\n",
      "Multiple eval metrics have been passed: 'test-error' will be used for early stopping.\n",
      "\n",
      "Will train until test-error hasn't improved in 100 rounds.\n",
      "Stopping. Best iteration:\n",
      "[2]\ttrain-error:0.192276+0.0198755\ttest-error:0.233148+0.068513\n",
      "\n",
      "   train-error-mean  train-error-std  test-error-mean  test-error-std\n",
      "0             0.242            0.053            0.306           0.116\n",
      "1             0.209            0.015            0.313           0.103\n",
      "2             0.192            0.020            0.233           0.069 \n",
      "\n",
      "END eta = 0.5 \n",
      "---------------------\n",
      "\n",
      "\n",
      "\n",
      "***\n",
      "START eta = 0.1 \n",
      "---------------------\n",
      "\n",
      "Multiple eval metrics have been passed: 'test-error' will be used for early stopping.\n",
      "\n",
      "Will train until test-error hasn't improved in 100 rounds.\n",
      "Stopping. Best iteration:\n",
      "[195]\ttrain-error:0.0288883+0.00902847\ttest-error:0.240878+0.0660459\n",
      "\n",
      "     train-error-mean  train-error-std  test-error-mean  test-error-std\n",
      "0               0.242            0.053            0.306           0.116\n",
      "1               0.220            0.022            0.306           0.116\n",
      "2               0.218            0.023            0.300           0.109\n",
      "3               0.221            0.022            0.287           0.109\n",
      "4               0.221            0.023            0.327           0.147\n",
      "5               0.216            0.020            0.280           0.111\n",
      "6               0.219            0.019            0.287           0.096\n",
      "7               0.202            0.015            0.287           0.097\n",
      "8               0.202            0.014            0.293           0.094\n",
      "9               0.197            0.017            0.294           0.098\n",
      "10              0.196            0.012            0.301           0.096\n",
      "11              0.190            0.008            0.301           0.096\n",
      "12              0.189            0.013            0.287           0.085\n",
      "13              0.183            0.015            0.287           0.085\n",
      "14              0.174            0.012            0.294           0.081\n",
      "15              0.171            0.018            0.294           0.081\n",
      "16              0.172            0.019            0.294           0.081\n",
      "17              0.167            0.018            0.294           0.081\n",
      "18              0.169            0.022            0.287           0.076\n",
      "19              0.171            0.020            0.287           0.076\n",
      "20              0.169            0.017            0.287           0.076\n",
      "21              0.167            0.017            0.287           0.076\n",
      "22              0.170            0.020            0.287           0.076\n",
      "23              0.168            0.015            0.287           0.076\n",
      "24              0.164            0.016            0.287           0.076\n",
      "25              0.162            0.019            0.287           0.076\n",
      "26              0.161            0.019            0.294           0.077\n",
      "27              0.161            0.020            0.294           0.077\n",
      "28              0.161            0.018            0.287           0.069\n",
      "29              0.159            0.018            0.287           0.069\n",
      "..                ...              ...              ...             ...\n",
      "166             0.036            0.011            0.261           0.057\n",
      "167             0.034            0.010            0.254           0.062\n",
      "168             0.034            0.010            0.254           0.062\n",
      "169             0.034            0.010            0.254           0.062\n",
      "170             0.032            0.011            0.254           0.062\n",
      "171             0.033            0.010            0.254           0.062\n",
      "172             0.034            0.010            0.254           0.062\n",
      "173             0.032            0.011            0.254           0.062\n",
      "174             0.032            0.011            0.254           0.062\n",
      "175             0.033            0.012            0.254           0.062\n",
      "176             0.031            0.010            0.254           0.062\n",
      "177             0.031            0.010            0.254           0.062\n",
      "178             0.033            0.012            0.247           0.062\n",
      "179             0.032            0.011            0.247           0.062\n",
      "180             0.032            0.011            0.247           0.062\n",
      "181             0.032            0.011            0.247           0.062\n",
      "182             0.032            0.011            0.247           0.062\n",
      "183             0.032            0.011            0.247           0.062\n",
      "184             0.031            0.012            0.254           0.068\n",
      "185             0.030            0.011            0.254           0.068\n",
      "186             0.031            0.010            0.254           0.068\n",
      "187             0.030            0.010            0.254           0.068\n",
      "188             0.030            0.010            0.254           0.068\n",
      "189             0.031            0.010            0.254           0.068\n",
      "190             0.031            0.010            0.254           0.068\n",
      "191             0.031            0.010            0.248           0.072\n",
      "192             0.030            0.010            0.248           0.072\n",
      "193             0.030            0.010            0.248           0.072\n",
      "194             0.030            0.010            0.248           0.072\n",
      "195             0.029            0.009            0.241           0.066\n",
      "\n",
      "[196 rows x 4 columns] \n",
      "\n",
      "END eta = 0.1 \n",
      "---------------------\n",
      "\n",
      "\n",
      "\n",
      "***\n",
      "START eta = 0.05 \n",
      "---------------------\n",
      "\n",
      "Multiple eval metrics have been passed: 'test-error' will be used for early stopping.\n",
      "\n"
     ]
    },
    {
     "name": "stdout",
     "output_type": "stream",
     "text": [
      "Will train until test-error hasn't improved in 100 rounds.\n",
      "Stopping. Best iteration:\n",
      "[246]\ttrain-error:0.0522047+0.0128593\ttest-error:0.247062+0.0488733\n",
      "\n",
      "     train-error-mean  train-error-std  test-error-mean  test-error-std\n",
      "0               0.242            0.053            0.306           0.116\n",
      "1               0.242            0.053            0.306           0.116\n",
      "2               0.221            0.022            0.300           0.109\n",
      "3               0.220            0.022            0.300           0.109\n",
      "4               0.220            0.022            0.306           0.116\n",
      "5               0.221            0.023            0.293           0.109\n",
      "6               0.221            0.023            0.293           0.109\n",
      "7               0.221            0.022            0.287           0.109\n",
      "8               0.222            0.023            0.293           0.109\n",
      "9               0.218            0.017            0.280           0.111\n",
      "10              0.216            0.021            0.287           0.103\n",
      "11              0.207            0.015            0.273           0.103\n",
      "12              0.200            0.013            0.273           0.103\n",
      "13              0.204            0.016            0.280           0.101\n",
      "14              0.202            0.012            0.273           0.103\n",
      "15              0.204            0.015            0.273           0.103\n",
      "16              0.202            0.012            0.280           0.098\n",
      "17              0.200            0.017            0.287           0.097\n",
      "18              0.197            0.010            0.294           0.095\n",
      "19              0.193            0.016            0.301           0.096\n",
      "20              0.193            0.016            0.301           0.096\n",
      "21              0.196            0.012            0.301           0.096\n",
      "22              0.192            0.020            0.301           0.096\n",
      "23              0.188            0.018            0.301           0.096\n",
      "24              0.189            0.017            0.294           0.086\n",
      "25              0.187            0.019            0.287           0.085\n",
      "26              0.188            0.019            0.287           0.085\n",
      "27              0.186            0.018            0.287           0.085\n",
      "28              0.187            0.017            0.287           0.085\n",
      "29              0.186            0.018            0.287           0.085\n",
      "..                ...              ...              ...             ...\n",
      "217             0.059            0.017            0.260           0.061\n",
      "218             0.059            0.017            0.260           0.061\n",
      "219             0.059            0.017            0.260           0.061\n",
      "220             0.060            0.018            0.260           0.061\n",
      "221             0.061            0.020            0.260           0.061\n",
      "222             0.059            0.017            0.260           0.061\n",
      "223             0.059            0.017            0.260           0.061\n",
      "224             0.058            0.018            0.260           0.061\n",
      "225             0.058            0.018            0.260           0.061\n",
      "226             0.057            0.017            0.260           0.061\n",
      "227             0.054            0.014            0.260           0.061\n",
      "228             0.054            0.014            0.260           0.061\n",
      "229             0.053            0.013            0.260           0.061\n",
      "230             0.053            0.013            0.260           0.061\n",
      "231             0.056            0.017            0.260           0.061\n",
      "232             0.053            0.013            0.260           0.061\n",
      "233             0.053            0.013            0.260           0.061\n",
      "234             0.053            0.013            0.267           0.061\n",
      "235             0.054            0.012            0.260           0.061\n",
      "236             0.053            0.012            0.260           0.061\n",
      "237             0.053            0.012            0.260           0.061\n",
      "238             0.053            0.012            0.260           0.061\n",
      "239             0.053            0.012            0.260           0.061\n",
      "240             0.053            0.012            0.260           0.061\n",
      "241             0.053            0.014            0.260           0.061\n",
      "242             0.053            0.015            0.260           0.061\n",
      "243             0.051            0.012            0.254           0.055\n",
      "244             0.053            0.014            0.260           0.055\n",
      "245             0.052            0.013            0.254           0.055\n",
      "246             0.052            0.013            0.247           0.049\n",
      "\n",
      "[247 rows x 4 columns] \n",
      "\n",
      "END eta = 0.05 \n",
      "---------------------\n",
      "\n",
      "\n",
      "\n",
      "***\n",
      "START eta = 0.0375 \n",
      "---------------------\n",
      "\n",
      "Multiple eval metrics have been passed: 'test-error' will be used for early stopping.\n",
      "\n",
      "Will train until test-error hasn't improved in 100 rounds.\n",
      "Stopping. Best iteration:\n",
      "[119]\ttrain-error:0.137805+0.024915\ttest-error:0.247372+0.0852926\n",
      "\n",
      "     train-error-mean  train-error-std  test-error-mean  test-error-std\n",
      "0               0.242            0.053            0.306           0.116\n",
      "1               0.242            0.053            0.306           0.116\n",
      "2               0.231            0.037            0.306           0.116\n",
      "3               0.221            0.022            0.300           0.109\n",
      "4               0.221            0.022            0.300           0.109\n",
      "5               0.220            0.022            0.300           0.109\n",
      "6               0.221            0.022            0.306           0.116\n",
      "7               0.221            0.023            0.293           0.109\n",
      "8               0.221            0.023            0.293           0.109\n",
      "9               0.222            0.023            0.293           0.109\n",
      "10              0.222            0.023            0.293           0.109\n",
      "11              0.220            0.020            0.287           0.109\n",
      "12              0.221            0.020            0.287           0.109\n",
      "13              0.216            0.016            0.287           0.109\n",
      "14              0.214            0.017            0.293           0.110\n",
      "15              0.209            0.018            0.287           0.109\n",
      "16              0.203            0.013            0.273           0.103\n",
      "17              0.203            0.013            0.273           0.103\n",
      "18              0.197            0.012            0.273           0.103\n",
      "19              0.200            0.012            0.280           0.098\n",
      "20              0.196            0.013            0.280           0.102\n",
      "21              0.199            0.014            0.280           0.098\n",
      "22              0.199            0.016            0.280           0.098\n",
      "23              0.193            0.013            0.287           0.100\n",
      "24              0.196            0.014            0.294           0.095\n",
      "25              0.194            0.016            0.301           0.096\n",
      "26              0.191            0.013            0.301           0.096\n",
      "27              0.190            0.012            0.301           0.096\n",
      "28              0.192            0.007            0.301           0.096\n",
      "29              0.193            0.016            0.301           0.096\n",
      "..                ...              ...              ...             ...\n",
      "90              0.158            0.017            0.281           0.063\n",
      "91              0.157            0.019            0.281           0.063\n",
      "92              0.157            0.020            0.281           0.063\n",
      "93              0.156            0.019            0.281           0.063\n",
      "94              0.157            0.019            0.281           0.063\n",
      "95              0.156            0.020            0.281           0.063\n",
      "96              0.153            0.020            0.281           0.063\n",
      "97              0.154            0.020            0.274           0.078\n",
      "98              0.156            0.018            0.274           0.078\n",
      "99              0.154            0.020            0.274           0.078\n",
      "100             0.154            0.020            0.274           0.078\n",
      "101             0.154            0.020            0.274           0.078\n",
      "102             0.152            0.022            0.274           0.078\n",
      "103             0.151            0.024            0.274           0.078\n",
      "104             0.151            0.024            0.274           0.078\n",
      "105             0.152            0.021            0.274           0.078\n",
      "106             0.151            0.023            0.274           0.078\n",
      "107             0.148            0.017            0.274           0.078\n",
      "108             0.146            0.024            0.274           0.078\n",
      "109             0.144            0.023            0.267           0.075\n",
      "110             0.143            0.023            0.267           0.075\n",
      "111             0.144            0.032            0.261           0.070\n",
      "112             0.142            0.026            0.261           0.075\n",
      "113             0.142            0.026            0.261           0.075\n",
      "114             0.140            0.025            0.261           0.075\n",
      "115             0.141            0.025            0.254           0.090\n",
      "116             0.142            0.023            0.254           0.090\n",
      "117             0.141            0.025            0.254           0.090\n",
      "118             0.137            0.025            0.254           0.090\n",
      "119             0.138            0.025            0.247           0.085\n",
      "\n",
      "[120 rows x 4 columns] \n",
      "\n",
      "END eta = 0.0375 \n",
      "---------------------\n",
      "\n",
      "\n",
      "\n",
      "***\n",
      "START eta = 0.038 \n",
      "---------------------\n",
      "\n",
      "Multiple eval metrics have been passed: 'test-error' will be used for early stopping.\n",
      "\n"
     ]
    },
    {
     "name": "stdout",
     "output_type": "stream",
     "text": [
      "Will train until test-error hasn't improved in 100 rounds.\n",
      "Stopping. Best iteration:\n",
      "[131]\ttrain-error:0.13334+0.019694\ttest-error:0.247372+0.0890096\n",
      "\n",
      "     train-error-mean  train-error-std  test-error-mean  test-error-std\n",
      "0               0.242            0.053            0.306           0.116\n",
      "1               0.242            0.053            0.306           0.116\n",
      "2               0.231            0.037            0.306           0.116\n",
      "3               0.221            0.022            0.300           0.109\n",
      "4               0.221            0.022            0.306           0.116\n",
      "5               0.220            0.022            0.300           0.109\n",
      "6               0.221            0.022            0.306           0.116\n",
      "7               0.221            0.023            0.293           0.109\n",
      "8               0.222            0.023            0.293           0.109\n",
      "9               0.222            0.023            0.293           0.109\n",
      "10              0.222            0.023            0.293           0.109\n",
      "11              0.220            0.020            0.287           0.109\n",
      "12              0.221            0.020            0.287           0.109\n",
      "13              0.220            0.019            0.287           0.109\n",
      "14              0.214            0.017            0.293           0.110\n",
      "15              0.211            0.018            0.287           0.109\n",
      "16              0.207            0.013            0.273           0.103\n",
      "17              0.207            0.013            0.273           0.103\n",
      "18              0.201            0.013            0.273           0.103\n",
      "19              0.204            0.013            0.280           0.098\n",
      "20              0.199            0.014            0.287           0.097\n",
      "21              0.203            0.014            0.280           0.098\n",
      "22              0.203            0.017            0.280           0.098\n",
      "23              0.197            0.017            0.287           0.100\n",
      "24              0.199            0.014            0.301           0.096\n",
      "25              0.197            0.018            0.301           0.096\n",
      "26              0.197            0.018            0.301           0.096\n",
      "27              0.196            0.018            0.301           0.096\n",
      "28              0.196            0.018            0.301           0.096\n",
      "29              0.196            0.018            0.301           0.096\n",
      "..                ...              ...              ...             ...\n",
      "102             0.151            0.022            0.274           0.078\n",
      "103             0.151            0.022            0.267           0.075\n",
      "104             0.151            0.022            0.267           0.075\n",
      "105             0.151            0.022            0.261           0.075\n",
      "106             0.147            0.018            0.261           0.075\n",
      "107             0.150            0.023            0.267           0.079\n",
      "108             0.149            0.025            0.261           0.075\n",
      "109             0.150            0.023            0.267           0.079\n",
      "110             0.149            0.025            0.267           0.079\n",
      "111             0.142            0.022            0.267           0.079\n",
      "112             0.143            0.023            0.267           0.079\n",
      "113             0.143            0.023            0.267           0.079\n",
      "114             0.140            0.022            0.261           0.094\n",
      "115             0.140            0.022            0.254           0.090\n",
      "116             0.141            0.022            0.254           0.090\n",
      "117             0.141            0.022            0.254           0.090\n",
      "118             0.140            0.022            0.254           0.090\n",
      "119             0.141            0.022            0.254           0.090\n",
      "120             0.140            0.022            0.254           0.090\n",
      "121             0.140            0.022            0.261           0.075\n",
      "122             0.140            0.022            0.254           0.090\n",
      "123             0.138            0.019            0.261           0.075\n",
      "124             0.138            0.019            0.261           0.075\n",
      "125             0.138            0.019            0.261           0.075\n",
      "126             0.138            0.019            0.254           0.090\n",
      "127             0.138            0.019            0.254           0.090\n",
      "128             0.138            0.019            0.254           0.090\n",
      "129             0.134            0.020            0.254           0.090\n",
      "130             0.134            0.020            0.254           0.090\n",
      "131             0.133            0.020            0.247           0.089\n",
      "\n",
      "[132 rows x 4 columns] \n",
      "\n",
      "END eta = 0.038 \n",
      "---------------------\n",
      "\n",
      "\n",
      "\n",
      "***\n",
      "START eta = 0.01 \n",
      "---------------------\n",
      "\n",
      "Multiple eval metrics have been passed: 'test-error' will be used for early stopping.\n",
      "\n",
      "Will train until test-error hasn't improved in 100 rounds.\n",
      "Stopping. Best iteration:\n",
      "[62]\ttrain-error:0.206681+0.0132422\ttest-error:0.273346+0.102513\n",
      "\n",
      "    train-error-mean  train-error-std  test-error-mean  test-error-std\n",
      "0              0.242            0.053            0.306           0.116\n",
      "1              0.242            0.053            0.306           0.116\n",
      "2              0.242            0.053            0.306           0.116\n",
      "3              0.242            0.053            0.306           0.116\n",
      "4              0.242            0.053            0.306           0.116\n",
      "5              0.242            0.053            0.306           0.116\n",
      "6              0.242            0.053            0.306           0.116\n",
      "7              0.231            0.037            0.306           0.116\n",
      "8              0.231            0.037            0.306           0.116\n",
      "9              0.231            0.037            0.306           0.116\n",
      "10             0.230            0.035            0.306           0.116\n",
      "11             0.230            0.035            0.306           0.116\n",
      "12             0.221            0.022            0.300           0.109\n",
      "13             0.221            0.022            0.300           0.109\n",
      "14             0.221            0.022            0.300           0.109\n",
      "15             0.221            0.022            0.300           0.109\n",
      "16             0.221            0.022            0.300           0.109\n",
      "17             0.221            0.022            0.300           0.109\n",
      "18             0.221            0.022            0.300           0.109\n",
      "19             0.221            0.022            0.300           0.109\n",
      "20             0.221            0.022            0.306           0.116\n",
      "21             0.221            0.022            0.300           0.109\n",
      "22             0.220            0.022            0.306           0.116\n",
      "23             0.220            0.022            0.306           0.116\n",
      "24             0.220            0.022            0.306           0.116\n",
      "25             0.219            0.022            0.306           0.116\n",
      "26             0.219            0.022            0.306           0.116\n",
      "27             0.219            0.022            0.306           0.116\n",
      "28             0.222            0.023            0.293           0.109\n",
      "29             0.222            0.023            0.293           0.109\n",
      "..               ...              ...              ...             ...\n",
      "33             0.222            0.023            0.293           0.109\n",
      "34             0.222            0.023            0.293           0.109\n",
      "35             0.222            0.023            0.293           0.109\n",
      "36             0.222            0.023            0.293           0.109\n",
      "37             0.222            0.023            0.293           0.109\n",
      "38             0.222            0.023            0.293           0.109\n",
      "39             0.222            0.023            0.293           0.109\n",
      "40             0.222            0.023            0.293           0.109\n",
      "41             0.222            0.023            0.293           0.109\n",
      "42             0.222            0.023            0.293           0.109\n",
      "43             0.221            0.022            0.287           0.109\n",
      "44             0.220            0.020            0.287           0.109\n",
      "45             0.217            0.021            0.287           0.109\n",
      "46             0.220            0.020            0.287           0.109\n",
      "47             0.220            0.020            0.287           0.109\n",
      "48             0.217            0.021            0.287           0.109\n",
      "49             0.214            0.017            0.287           0.109\n",
      "50             0.214            0.017            0.287           0.109\n",
      "51             0.214            0.017            0.287           0.109\n",
      "52             0.213            0.017            0.293           0.110\n",
      "53             0.213            0.017            0.287           0.103\n",
      "54             0.213            0.018            0.287           0.103\n",
      "55             0.214            0.017            0.287           0.103\n",
      "56             0.213            0.018            0.287           0.103\n",
      "57             0.208            0.018            0.280           0.101\n",
      "58             0.206            0.016            0.280           0.101\n",
      "59             0.211            0.018            0.280           0.101\n",
      "60             0.204            0.017            0.280           0.101\n",
      "61             0.209            0.016            0.280           0.101\n",
      "62             0.207            0.013            0.273           0.103\n",
      "\n",
      "[63 rows x 4 columns] \n",
      "\n",
      "END eta = 0.01 \n",
      "---------------------\n",
      "\n"
     ]
    }
   ],
   "source": [
    "for this in [0.9, 0.5, 0.1, 0.05, 0.0375, 0.038, 0.01]:\n",
    "\n",
    "    param['eta'] = this\n",
    "\n",
    "    print('\\n\\n***\\nSTART eta =', this, '\\n---------------------\\n') \n",
    "    \n",
    "    res = xgb.cv(param, d_X, num_boost_round=param['num_round'], nfold=7, \n",
    "\n",
    "                 metrics={'error'}, seed=0, \n",
    "\n",
    "                 callbacks=[\n",
    "\n",
    "                            xgb.callback.early_stop(100)])\n",
    "\n",
    "    print(res, '\\n\\nEND eta =', this, '\\n---------------------\\n') "
   ]
  },
  {
   "cell_type": "code",
   "execution_count": 21,
   "metadata": {},
   "outputs": [
    {
     "data": {
      "text/plain": [
       "{'max_depth': 2,\n",
       " 'eta': 0.01,\n",
       " 'silent': 1,\n",
       " 'objective': 'binary:logistic',\n",
       " 'nthread': 8,\n",
       " 'eval_metric': 'error',\n",
       " 'num_round': 500}"
      ]
     },
     "execution_count": 21,
     "metadata": {},
     "output_type": "execute_result"
    }
   ],
   "source": [
    "param"
   ]
  },
  {
   "cell_type": "code",
   "execution_count": 43,
   "metadata": {
    "scrolled": true
   },
   "outputs": [
    {
     "name": "stdout",
     "output_type": "stream",
     "text": [
      "[0]\teval-error:0.26\ttrain-error:0.2\n",
      "[1]\teval-error:0.26\ttrain-error:0.2\n",
      "[2]\teval-error:0.3\ttrain-error:0.16\n",
      "[3]\teval-error:0.26\ttrain-error:0.17\n",
      "[4]\teval-error:0.3\ttrain-error:0.16\n",
      "[5]\teval-error:0.44\ttrain-error:0.14\n",
      "[6]\teval-error:0.48\ttrain-error:0.13\n",
      "[7]\teval-error:0.46\ttrain-error:0.13\n",
      "[8]\teval-error:0.5\ttrain-error:0.12\n",
      "[9]\teval-error:0.42\ttrain-error:0.13\n",
      "[10]\teval-error:0.46\ttrain-error:0.12\n",
      "[11]\teval-error:0.44\ttrain-error:0.09\n",
      "[12]\teval-error:0.44\ttrain-error:0.08\n",
      "[13]\teval-error:0.34\ttrain-error:0.08\n",
      "[14]\teval-error:0.32\ttrain-error:0.06\n",
      "[15]\teval-error:0.32\ttrain-error:0.07\n",
      "[16]\teval-error:0.3\ttrain-error:0.07\n",
      "[17]\teval-error:0.28\ttrain-error:0.07\n",
      "[18]\teval-error:0.34\ttrain-error:0.07\n",
      "[19]\teval-error:0.34\ttrain-error:0.05\n",
      "[20]\teval-error:0.36\ttrain-error:0.04\n",
      "[21]\teval-error:0.36\ttrain-error:0.05\n",
      "[22]\teval-error:0.36\ttrain-error:0.03\n",
      "[23]\teval-error:0.32\ttrain-error:0.04\n",
      "[24]\teval-error:0.34\ttrain-error:0.01\n",
      "[25]\teval-error:0.32\ttrain-error:0.02\n",
      "[26]\teval-error:0.32\ttrain-error:0.02\n",
      "[27]\teval-error:0.32\ttrain-error:0.02\n",
      "[28]\teval-error:0.32\ttrain-error:0.02\n",
      "[29]\teval-error:0.32\ttrain-error:0.02\n",
      "[30]\teval-error:0.34\ttrain-error:0.02\n",
      "[31]\teval-error:0.32\ttrain-error:0.03\n",
      "[32]\teval-error:0.32\ttrain-error:0.01\n",
      "[33]\teval-error:0.32\ttrain-error:0.01\n",
      "[34]\teval-error:0.3\ttrain-error:0.01\n",
      "[35]\teval-error:0.3\ttrain-error:0\n",
      "[36]\teval-error:0.3\ttrain-error:0.01\n",
      "[37]\teval-error:0.3\ttrain-error:0.01\n",
      "[38]\teval-error:0.3\ttrain-error:0.01\n",
      "[39]\teval-error:0.3\ttrain-error:0.01\n",
      "[40]\teval-error:0.3\ttrain-error:0.02\n",
      "[41]\teval-error:0.3\ttrain-error:0.02\n",
      "[42]\teval-error:0.28\ttrain-error:0.01\n",
      "[43]\teval-error:0.28\ttrain-error:0\n",
      "[44]\teval-error:0.28\ttrain-error:0\n",
      "[45]\teval-error:0.28\ttrain-error:0\n",
      "[46]\teval-error:0.3\ttrain-error:0\n",
      "[47]\teval-error:0.3\ttrain-error:0.01\n",
      "[48]\teval-error:0.28\ttrain-error:0.01\n",
      "[49]\teval-error:0.28\ttrain-error:0\n",
      "[50]\teval-error:0.28\ttrain-error:0\n",
      "[51]\teval-error:0.28\ttrain-error:0\n",
      "[52]\teval-error:0.28\ttrain-error:0\n",
      "[53]\teval-error:0.28\ttrain-error:0\n",
      "[54]\teval-error:0.28\ttrain-error:0\n",
      "[55]\teval-error:0.28\ttrain-error:0\n",
      "[56]\teval-error:0.28\ttrain-error:0\n",
      "[57]\teval-error:0.28\ttrain-error:0\n",
      "[58]\teval-error:0.28\ttrain-error:0\n",
      "[59]\teval-error:0.28\ttrain-error:0\n",
      "[60]\teval-error:0.28\ttrain-error:0\n",
      "[61]\teval-error:0.28\ttrain-error:0\n",
      "[62]\teval-error:0.28\ttrain-error:0\n",
      "[63]\teval-error:0.28\ttrain-error:0\n",
      "[64]\teval-error:0.28\ttrain-error:0\n",
      "[65]\teval-error:0.28\ttrain-error:0\n",
      "[66]\teval-error:0.28\ttrain-error:0\n",
      "[67]\teval-error:0.28\ttrain-error:0\n",
      "[68]\teval-error:0.28\ttrain-error:0\n",
      "[69]\teval-error:0.28\ttrain-error:0\n",
      "[70]\teval-error:0.28\ttrain-error:0\n",
      "[71]\teval-error:0.28\ttrain-error:0\n",
      "[72]\teval-error:0.28\ttrain-error:0\n",
      "[73]\teval-error:0.28\ttrain-error:0\n",
      "[74]\teval-error:0.3\ttrain-error:0\n",
      "[75]\teval-error:0.28\ttrain-error:0\n",
      "[76]\teval-error:0.28\ttrain-error:0\n",
      "[77]\teval-error:0.28\ttrain-error:0\n",
      "[78]\teval-error:0.28\ttrain-error:0\n",
      "[79]\teval-error:0.28\ttrain-error:0\n",
      "[80]\teval-error:0.28\ttrain-error:0\n",
      "[81]\teval-error:0.28\ttrain-error:0\n",
      "[82]\teval-error:0.28\ttrain-error:0\n",
      "[83]\teval-error:0.28\ttrain-error:0\n",
      "[84]\teval-error:0.28\ttrain-error:0\n",
      "[85]\teval-error:0.28\ttrain-error:0\n",
      "[86]\teval-error:0.3\ttrain-error:0\n",
      "[87]\teval-error:0.28\ttrain-error:0\n",
      "[88]\teval-error:0.3\ttrain-error:0\n",
      "[89]\teval-error:0.28\ttrain-error:0\n",
      "[90]\teval-error:0.3\ttrain-error:0\n",
      "[91]\teval-error:0.3\ttrain-error:0\n",
      "[92]\teval-error:0.3\ttrain-error:0\n",
      "[93]\teval-error:0.3\ttrain-error:0\n",
      "[94]\teval-error:0.3\ttrain-error:0\n",
      "[95]\teval-error:0.3\ttrain-error:0\n",
      "[96]\teval-error:0.3\ttrain-error:0\n",
      "[97]\teval-error:0.3\ttrain-error:0\n",
      "[98]\teval-error:0.3\ttrain-error:0\n",
      "[99]\teval-error:0.3\ttrain-error:0\n",
      "\n",
      "Best iter: \n",
      "\n",
      "[0]\teval-error:0.26\ttrain-error:0.2\n",
      "[1]\teval-error:0.26\ttrain-error:0.2\n",
      "[2]\teval-error:0.3\ttrain-error:0.16\n",
      "[3]\teval-error:0.26\ttrain-error:0.17\n"
     ]
    }
   ],
   "source": [
    "param['eta'] = 0.5\n",
    "\n",
    "param['num_round'] = 100\n",
    "\n",
    "bst1 = xgb.train(param, d_train, param['num_round'], evallist)\n",
    "\n",
    "param['num_round'] = 4\n",
    "\n",
    "print ('\\nBest iter: \\n')\n",
    "\n",
    "bst2 = xgb.train(param, d_train, param['num_round'], evallist)"
   ]
  },
  {
   "cell_type": "code",
   "execution_count": 44,
   "metadata": {},
   "outputs": [
    {
     "data": {
      "text/plain": [
       "<matplotlib.axes._subplots.AxesSubplot at 0x29838eec358>"
      ]
     },
     "execution_count": 44,
     "metadata": {},
     "output_type": "execute_result"
    },
    {
     "data": {
      "image/png": "[encoded data removed]",
      "text/plain": [
       "<Figure size 432x288 with 1 Axes>"
      ]
     },
     "metadata": {
      "needs_background": "light"
     },
     "output_type": "display_data"
    }
   ],
   "source": [
    "xgb.plot_importance(bst1)"
   ]
  },
  {
   "cell_type": "code",
   "execution_count": 45,
   "metadata": {},
   "outputs": [
    {
     "data": {
      "text/plain": [
       "<matplotlib.axes._subplots.AxesSubplot at 0x29838e72d30>"
      ]
     },
     "execution_count": 45,
     "metadata": {},
     "output_type": "execute_result"
    },
    {
     "data": {
      "image/png": "[encoded data removed]",
      "text/plain": [
       "<Figure size 432x288 with 1 Axes>"
      ]
     },
     "metadata": {
      "needs_background": "light"
     },
     "output_type": "display_data"
    }
   ],
   "source": [
    "xgb.plot_importance(bst2)"
   ]
  },
  {
   "cell_type": "code",
   "execution_count": 47,
   "metadata": {},
   "outputs": [
    {
     "name": "stdout",
     "output_type": "stream",
     "text": [
      "[0]\teval-error:0.16\ttrain-error:0.23\n",
      "[1]\teval-error:0.18\ttrain-error:0.2\n",
      "[2]\teval-error:0.16\ttrain-error:0.23\n",
      "[3]\teval-error:0.14\ttrain-error:0.2\n"
     ]
    }
   ],
   "source": [
    "bst3 = xgb.train(param, d_X, param['num_round'], evallist)"
   ]
  },
  {
   "cell_type": "code",
   "execution_count": 48,
   "metadata": {},
   "outputs": [
    {
     "data": {
      "text/plain": [
       "<matplotlib.axes._subplots.AxesSubplot at 0x29838fa2d30>"
      ]
     },
     "execution_count": 48,
     "metadata": {},
     "output_type": "execute_result"
    },
    {
     "data": {
      "image/png": "[encoded data removed]",
      "text/plain": [
       "<Figure size 432x288 with 1 Axes>"
      ]
     },
     "metadata": {
      "needs_background": "light"
     },
     "output_type": "display_data"
    }
   ],
   "source": [
    "xgb.plot_importance(bst3)"
   ]
  },
  {
   "cell_type": "code",
   "execution_count": 49,
   "metadata": {},
   "outputs": [
    {
     "data": {
      "text/plain": [
       "0.9"
      ]
     },
     "execution_count": 49,
     "metadata": {},
     "output_type": "execute_result"
    }
   ],
   "source": [
    "accuracy_score((bst1.predict(d_X)>=0.5).astype(int),y)"
   ]
  },
  {
   "cell_type": "code",
   "execution_count": 50,
   "metadata": {},
   "outputs": [
    {
     "data": {
      "text/plain": [
       "0.8"
      ]
     },
     "execution_count": 50,
     "metadata": {},
     "output_type": "execute_result"
    }
   ],
   "source": [
    "accuracy_score((bst2.predict(d_X)>=0.5).astype(int),y)"
   ]
  },
  {
   "cell_type": "code",
   "execution_count": 51,
   "metadata": {},
   "outputs": [
    {
     "data": {
      "text/plain": [
       "0.82"
      ]
     },
     "execution_count": 51,
     "metadata": {},
     "output_type": "execute_result"
    }
   ],
   "source": [
    "accuracy_score((bst3.predict(d_X)>=0.5).astype(int),y)"
   ]
  },
  {
   "cell_type": "code",
   "execution_count": 393,
   "metadata": {},
   "outputs": [],
   "source": [
    "# bst.save_model('xgb.model')\n",
    "\n",
    "# # load model and data in\n",
    "\n",
    "# bst2 = xgb.Booster(model_file='xgb.model')"
   ]
  },
  {
   "cell_type": "code",
   "execution_count": null,
   "metadata": {},
   "outputs": [],
   "source": []
  },
  {
   "cell_type": "code",
   "execution_count": null,
   "metadata": {},
   "outputs": [],
   "source": []
  },
  {
   "cell_type": "code",
   "execution_count": 531,
   "metadata": {},
   "outputs": [],
   "source": [
    "submission = pd.Series((bst.predict(data_xgb)>=0.5).astype(int)).map({0:'car', 1:'bus'})"
   ]
  },
  {
   "cell_type": "code",
   "execution_count": 533,
   "metadata": {},
   "outputs": [
    {
     "data": {
      "text/plain": [
       "13"
      ]
     },
     "execution_count": 533,
     "metadata": {},
     "output_type": "execute_result"
    }
   ],
   "source": [
    "submission.count()"
   ]
  },
  {
   "cell_type": "code",
   "execution_count": 534,
   "metadata": {},
   "outputs": [],
   "source": [
    "submission.to_csv('subm.csv', index=None)"
   ]
  },
  {
   "cell_type": "code",
   "execution_count": 535,
   "metadata": {},
   "outputs": [
    {
     "data": {
      "text/html": [
       "<div>\n",
       "<style scoped>\n",
       "    .dataframe tbody tr th:only-of-type {\n",
       "        vertical-align: middle;\n",
       "    }\n",
       "\n",
       "    .dataframe tbody tr th {\n",
       "        vertical-align: top;\n",
       "    }\n",
       "\n",
       "    .dataframe thead th {\n",
       "        text-align: right;\n",
       "    }\n",
       "</style>\n",
       "<table border=\"1\" class=\"dataframe\">\n",
       "  <thead>\n",
       "    <tr style=\"text-align: right;\">\n",
       "      <th></th>\n",
       "      <th>0</th>\n",
       "    </tr>\n",
       "  </thead>\n",
       "  <tbody>\n",
       "    <tr>\n",
       "      <th>0</th>\n",
       "      <td>car</td>\n",
       "    </tr>\n",
       "    <tr>\n",
       "      <th>1</th>\n",
       "      <td>car</td>\n",
       "    </tr>\n",
       "    <tr>\n",
       "      <th>2</th>\n",
       "      <td>bus</td>\n",
       "    </tr>\n",
       "  </tbody>\n",
       "</table>\n",
       "</div>"
      ],
      "text/plain": [
       "     0\n",
       "0  car\n",
       "1  car\n",
       "2  bus"
      ]
     },
     "execution_count": 535,
     "metadata": {},
     "output_type": "execute_result"
    }
   ],
   "source": [
    "pd.read_csv('subm.csv', header=None, nrows=3)"
   ]
  },
  {
   "cell_type": "code",
   "execution_count": null,
   "metadata": {},
   "outputs": [],
   "source": []
  },
  {
   "cell_type": "code",
   "execution_count": null,
   "metadata": {},
   "outputs": [],
   "source": [
    "# Посмотрим, в чем сложности"
   ]
  },
  {
   "cell_type": "code",
   "execution_count": 57,
   "metadata": {},
   "outputs": [],
   "source": [
    "bus_not_car = (X['y_pred'] == 1) & (X['y'] == 0)"
   ]
  },
  {
   "cell_type": "code",
   "execution_count": 58,
   "metadata": {},
   "outputs": [],
   "source": [
    "car_not_bus = (X['y_pred'] == 0) & (X['y'] == 1)"
   ]
  },
  {
   "cell_type": "code",
   "execution_count": 59,
   "metadata": {},
   "outputs": [],
   "source": [
    "bus = X['y'] == 1\n",
    "car = X['y'] == 0"
   ]
  },
  {
   "cell_type": "code",
   "execution_count": 70,
   "metadata": {
    "scrolled": false
   },
   "outputs": [
    {
     "data": {
      "text/plain": [
       "Text(0,0.5,'distance')"
      ]
     },
     "execution_count": 70,
     "metadata": {},
     "output_type": "execute_result"
    },
    {
     "data": {
      "image/png": "[encoded data removed]",
      "text/plain": [
       "<Figure size 1080x720 with 1 Axes>"
      ]
     },
     "metadata": {
      "needs_background": "light"
     },
     "output_type": "display_data"
    }
   ],
   "source": [
    "plt.figure(figsize=(15,10))\n",
    "#plt.scatter(X['v'].clip(0,145),X['t'], alpha=0.3)\n",
    "plt.scatter(X.loc[bus,'v'].clip(0,55),X.loc[bus,'distance'], alpha=0.5, c='r')\n",
    "plt.scatter(X.loc[car,'v'].clip(0,55),X.loc[car,'distance'], alpha=0.5, c='g')\n",
    "plt.xlabel('v')\n",
    "plt.ylabel('distance')"
   ]
  },
  {
   "cell_type": "code",
   "execution_count": 69,
   "metadata": {
    "scrolled": false
   },
   "outputs": [
    {
     "data": {
      "text/plain": [
       "Text(0,0.5,'distance')"
      ]
     },
     "execution_count": 69,
     "metadata": {},
     "output_type": "execute_result"
    },
    {
     "data": {
      "image/png": "[encoded data removed]",
      "text/plain": [
       "<Figure size 1080x720 with 1 Axes>"
      ]
     },
     "metadata": {
      "needs_background": "light"
     },
     "output_type": "display_data"
    }
   ],
   "source": [
    "plt.figure(figsize=(15,10))\n",
    "#plt.scatter(X['v'].clip(0,145),X['t'], alpha=0.3)\n",
    "plt.scatter(X.loc[bus_not_car,'v'].clip(0,55),X.loc[bus_not_car,'distance'], alpha=0.5, c='r')\n",
    "plt.scatter(X.loc[car_not_bus,'v'].clip(0,55),X.loc[car_not_bus,'distance'], alpha=0.5, c='g')\n",
    "plt.xlabel('v')\n",
    "plt.ylabel('distance')"
   ]
  },
  {
   "cell_type": "code",
   "execution_count": 73,
   "metadata": {},
   "outputs": [],
   "source": [
    "from sklearn.metrics import confusion_matrix"
   ]
  },
  {
   "cell_type": "code",
   "execution_count": 75,
   "metadata": {},
   "outputs": [
    {
     "data": {
      "text/plain": [
       "array([[62, 12],\n",
       "       [15, 61]], dtype=int64)"
      ]
     },
     "execution_count": 75,
     "metadata": {},
     "output_type": "execute_result"
    }
   ],
   "source": [
    "confusion_matrix(bst3.predict(d_X)>=0.5, y)"
   ]
  },
  {
   "cell_type": "code",
   "execution_count": null,
   "metadata": {},
   "outputs": [],
   "source": []
  }
 ],
 "metadata": {
  "kernelspec": {
   "display_name": "Python 3",
   "language": "python",
   "name": "python3"
  },
  "language_info": {
   "codemirror_mode": {
    "name": "ipython",
    "version": 3
   },
   "file_extension": ".py",
   "mimetype": "text/x-python",
   "name": "python",
   "nbconvert_exporter": "python",
   "pygments_lexer": "ipython3",
   "version": "3.7.0"
  }
 },
 "nbformat": 4,
 "nbformat_minor": 2
}
